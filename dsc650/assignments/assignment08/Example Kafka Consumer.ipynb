{
 "cells": [
  {
   "cell_type": "code",
   "execution_count": 1,
   "metadata": {
    "tags": []
   },
   "outputs": [],
   "source": [
    "import json\n",
    "\n",
    "from kafka import KafkaConsumer"
   ]
  },
  {
   "cell_type": "markdown",
   "metadata": {},
   "source": [
    "### Configuration Parameters \n",
    "\n",
    "> **TODO:** Change the configuration prameters to the appropriate values for your setup."
   ]
  },
  {
   "cell_type": "code",
   "execution_count": 2,
   "metadata": {
    "tags": []
   },
   "outputs": [
    {
     "data": {
      "text/plain": [
       "{'bootstrap_servers': ['kafka.kafka.svc.cluster.local:9092'],\n",
       " 'first_name': 'Josh',\n",
       " 'last_name': 'Greenert',\n",
       " 'client_id': 'GreenertJosh',\n",
       " 'topic_prefix': 'GreenertJosh'}"
      ]
     },
     "execution_count": 2,
     "metadata": {},
     "output_type": "execute_result"
    }
   ],
   "source": [
    "config = dict(\n",
    "    bootstrap_servers=['kafka.kafka.svc.cluster.local:9092'],\n",
    "    first_name='Josh',\n",
    "    last_name='Greenert'\n",
    ")\n",
    "\n",
    "config['client_id'] = '{}{}'.format(\n",
    "    config['last_name'], \n",
    "    config['first_name']\n",
    ")\n",
    "config['topic_prefix'] = '{}{}'.format(\n",
    "    config['last_name'], \n",
    "    config['first_name']\n",
    ")\n",
    "\n",
    "config"
   ]
  },
  {
   "cell_type": "markdown",
   "metadata": {},
   "source": [
    "Create a consumer without subscribing to any particular topic"
   ]
  },
  {
   "cell_type": "code",
   "execution_count": 3,
   "metadata": {
    "tags": []
   },
   "outputs": [],
   "source": [
    "general_consumer = KafkaConsumer(\n",
    "    bootstrap_servers=config['bootstrap_servers']\n",
    ")"
   ]
  },
  {
   "cell_type": "markdown",
   "metadata": {},
   "source": [
    "List all topics you are currently allowed to view"
   ]
  },
  {
   "cell_type": "code",
   "execution_count": 4,
   "metadata": {
    "tags": []
   },
   "outputs": [
    {
     "data": {
      "text/plain": [
       "{'AvinazGabe-simple',\n",
       " 'AvinazGabriel-accelerations',\n",
       " 'AvinazGabriel-joined',\n",
       " 'AvinazGabriel-locations',\n",
       " 'AvinazGabriel-simple',\n",
       " 'AvinazGabriel-windowed',\n",
       " 'BondaAnjani-accelerations',\n",
       " 'BondaAnjani-locations',\n",
       " 'ChristudassReenie-accelerations',\n",
       " 'ChristudassReenie-locations',\n",
       " 'ChristudassReenie-simple',\n",
       " 'ClaytonDan-joined',\n",
       " 'ClaytonDan-simple',\n",
       " 'ClaytonDan-windowed',\n",
       " 'ClaytonDaniel-accelerations',\n",
       " 'ClaytonDaniel-locations',\n",
       " 'ClaytonDaniel-simple',\n",
       " 'CosentiniVictor-accelerations',\n",
       " 'CosentiniVictor-joined',\n",
       " 'CosentiniVictor-locations',\n",
       " 'CosentiniVictor-simple',\n",
       " 'CosentiniVictor-windowed',\n",
       " 'DoeJohn-accelerations',\n",
       " 'DoeJohn-joined',\n",
       " 'DoeJohn-locations',\n",
       " 'DoeJohn-simple',\n",
       " 'DoeJohn-windowed',\n",
       " 'GreenertJosh-accelerations',\n",
       " 'GreenertJosh-joined',\n",
       " 'GreenertJosh-locations',\n",
       " 'GreenertJosh-simple',\n",
       " 'GreenertJosh-windowed',\n",
       " 'HanPhil-accelerations',\n",
       " 'HanPhil-locations',\n",
       " 'HanPhil-simple',\n",
       " 'HanPhil-windowed',\n",
       " 'HanSangPhil-accelerations',\n",
       " 'HanSangPhil-locations',\n",
       " 'HermansShawn-locations',\n",
       " 'McMillinJoel-accelerations',\n",
       " 'McMillinJoel-locations',\n",
       " 'McMillinJoel-simple',\n",
       " 'MeyerJake-acceleration',\n",
       " 'MeyerJake-accelerations',\n",
       " 'MeyerJake-joined',\n",
       " 'MeyerJake-locations',\n",
       " 'MeyerJake-simple',\n",
       " 'MeyerJake-windowed',\n",
       " 'OehlerAngie-accelerations',\n",
       " 'OehlerAngie-joined',\n",
       " 'OehlerAngie-locations',\n",
       " 'OehlerAngie-simple',\n",
       " 'OehlerAngie-windowed',\n",
       " 'Oehler_Angie-locations',\n",
       " 'OmprakashSantosh-accelerations',\n",
       " 'OmprakashSantosh-locations',\n",
       " 'PashShaq-accelerations',\n",
       " 'PashShaq-joined',\n",
       " 'PashShaq-locations',\n",
       " 'PashShaq-simple',\n",
       " 'PashShaq-windowed',\n",
       " 'PatelMithil-accelerations',\n",
       " 'PatelMithil-locations',\n",
       " 'ShermanMilan-accelerations',\n",
       " 'ShermanMilan-locations',\n",
       " 'ShermanMilan-simple',\n",
       " 'SupencheckChelsea-accelerations',\n",
       " 'SupencheckChelsea-locations',\n",
       " 'TabbalatAbed-accelerations',\n",
       " 'TabbalatAbed-locations',\n",
       " 'TabbalatAbed-simple',\n",
       " 'TranQua-accelerations',\n",
       " 'TranQua-joined',\n",
       " 'TranQua-locations',\n",
       " 'TranQua-simple',\n",
       " 'TranQua-windowed',\n",
       " 'VayuvegulaSomaShekar-accelerations',\n",
       " 'VayuvegulaSomaShekar-locations',\n",
       " 'WeatherfordPatrick-accelerations',\n",
       " 'WeatherfordPatrick-locations',\n",
       " 'WeatherfordPatrick-simple',\n",
       " 'my-topic'}"
      ]
     },
     "execution_count": 4,
     "metadata": {},
     "output_type": "execute_result"
    }
   ],
   "source": [
    "general_consumer.topics()"
   ]
  },
  {
   "cell_type": "markdown",
   "metadata": {},
   "source": [
    "Close the consumer, waiting indefinitely for any needed cleanup."
   ]
  },
  {
   "cell_type": "code",
   "execution_count": 5,
   "metadata": {
    "tags": []
   },
   "outputs": [],
   "source": [
    "general_consumer.close()"
   ]
  },
  {
   "cell_type": "code",
   "execution_count": 6,
   "metadata": {
    "tags": []
   },
   "outputs": [],
   "source": [
    "def create_kafka_consumer(topics, config=config):\n",
    "    bootstrap_servers = config['bootstrap_servers']\n",
    "    client_id = config['client_id']\n",
    "    topic_prefix = config['topic_prefix']    \n",
    "    topic_list = ['{}-{}'.format(topic_prefix, topic) for topic in topics]\n",
    "    \n",
    "    return KafkaConsumer(\n",
    "        *topic_list,\n",
    "        client_id=client_id,\n",
    "        bootstrap_servers=bootstrap_servers,\n",
    "        auto_offset_reset='earliest',\n",
    "        enable_auto_commit=False,\n",
    "        value_deserializer=lambda x: json.loads(x)\n",
    "    )\n",
    "\n",
    "consumer = create_kafka_consumer(['locations', 'accelerations'])"
   ]
  },
  {
   "cell_type": "markdown",
   "metadata": {},
   "source": [
    "Gets a list of this consumer's current subscriptions"
   ]
  },
  {
   "cell_type": "code",
   "execution_count": 7,
   "metadata": {
    "tags": []
   },
   "outputs": [
    {
     "data": {
      "text/plain": [
       "{'GreenertJosh-accelerations', 'GreenertJosh-locations'}"
      ]
     },
     "execution_count": 7,
     "metadata": {},
     "output_type": "execute_result"
    }
   ],
   "source": [
    "consumer.subscription()"
   ]
  },
  {
   "cell_type": "markdown",
   "metadata": {},
   "source": [
    "The following function prints messages from the current consumer subscriptions. It will continue until manually stopped. "
   ]
  },
  {
   "cell_type": "code",
   "execution_count": null,
   "metadata": {
    "tags": []
   },
   "outputs": [],
   "source": [
    "def print_messages(consumer=consumer):\n",
    "    try:\n",
    "        for message in consumer:\n",
    "                msg_metadata = 'Message metadata: {}:{}:{}'.format(\n",
    "                    message.topic, message.partition, message.offset\n",
    "                )\n",
    "\n",
    "                if message.key is not None:\n",
    "                    msg_key = message.key.decode('utf-8')\n",
    "                else:\n",
    "                    msg_key = ''\n",
    "                msg_value = json.dumps(message.value, indent=2)\n",
    "                msg_value = '\\n'.join(['  {}'.format(value) for value in msg_value.split('\\n')])\n",
    "\n",
    "                print('Message metadata:')\n",
    "                print('  Topic: {}'.format(message.topic))\n",
    "                print('  Partition: {}'.format(message.partition))\n",
    "                print('  Offset: {}'.format(message.offset))\n",
    "                print('Message Key: {}'.format(msg_key))\n",
    "                print('Message Value:')\n",
    "                print(msg_value)\n",
    "                print()\n",
    "    except KeyboardInterrupt:\n",
    "        print(\"STOPPING MESSAGE CONSUMER\")\n",
    "        \n",
    "print_messages()"
   ]
  },
  {
   "cell_type": "markdown",
   "metadata": {},
   "source": [
    "Close the consumer, waiting indefinitely for any needed cleanup."
   ]
  },
  {
   "cell_type": "code",
   "execution_count": null,
   "metadata": {
    "tags": []
   },
   "outputs": [],
   "source": [
    "# Close the consumer since it's done processing the messages.\n",
    "consumer.close()"
   ]
  },
  {
   "cell_type": "code",
   "execution_count": null,
   "metadata": {},
   "outputs": [],
   "source": []
  }
 ],
 "metadata": {
  "kernelspec": {
   "display_name": "Python 3 (ipykernel)",
   "language": "python",
   "name": "python3"
  },
  "language_info": {
   "codemirror_mode": {
    "name": "ipython",
    "version": 3
   },
   "file_extension": ".py",
   "mimetype": "text/x-python",
   "name": "python",
   "nbconvert_exporter": "python",
   "pygments_lexer": "ipython3",
   "version": "3.10.10"
  }
 },
 "nbformat": 4,
 "nbformat_minor": 4
}
