{
 "cells": [
  {
   "cell_type": "markdown",
   "id": "d67b470d",
   "metadata": {},
   "source": [
    "## DSC650-T301 Big Data (2235-1)\n",
    "## 5/24/2023\n",
    "## Joshua Greenert"
   ]
  },
  {
   "cell_type": "code",
   "execution_count": null,
   "id": "d712c05f",
   "metadata": {},
   "outputs": [],
   "source": [
    "# Using section 8.4 in Deep Learning with Python as a guide, implement a variational autoencoder using the MNIST data set\n",
    "# and save a grid of 15 x 15 digits to the results/vae directory. If you would rather work on a more interesting dataset,\n",
    "# you can use the CelebFaces Attributes Dataset instead.\n"
   ]
  }
 ],
 "metadata": {
  "kernelspec": {
   "display_name": "Python 3 (ipykernel)",
   "language": "python",
   "name": "python3"
  },
  "language_info": {
   "codemirror_mode": {
    "name": "ipython",
    "version": 3
   },
   "file_extension": ".py",
   "mimetype": "text/x-python",
   "name": "python",
   "nbconvert_exporter": "python",
   "pygments_lexer": "ipython3",
   "version": "3.9.12"
  }
 },
 "nbformat": 4,
 "nbformat_minor": 5
}
