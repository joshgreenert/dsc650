{
 "cells": [
  {
   "cell_type": "markdown",
   "id": "857ee97a",
   "metadata": {},
   "source": [
    "## DSC650-T301 Big Data (2235-1)\n",
    "## 5/21/2023\n",
    "## Joshua Greenert"
   ]
  },
  {
   "cell_type": "code",
   "execution_count": null,
   "id": "c6a36438",
   "metadata": {},
   "outputs": [],
   "source": [
    "# Using section 8.1 in Deep Learning with Python as a guide, implement an LSTM text generator. \n",
    "# Train the model on the Enron corpus or a text source of your choice. Save the model and generate 20 examples \n",
    "# to the results directory of dsc650/assignments/assignment11/.\n"
   ]
  }
 ],
 "metadata": {
  "kernelspec": {
   "display_name": "Python 3 (ipykernel)",
   "language": "python",
   "name": "python3"
  },
  "language_info": {
   "codemirror_mode": {
    "name": "ipython",
    "version": 3
   },
   "file_extension": ".py",
   "mimetype": "text/x-python",
   "name": "python",
   "nbconvert_exporter": "python",
   "pygments_lexer": "ipython3",
   "version": "3.9.12"
  }
 },
 "nbformat": 4,
 "nbformat_minor": 5
}
