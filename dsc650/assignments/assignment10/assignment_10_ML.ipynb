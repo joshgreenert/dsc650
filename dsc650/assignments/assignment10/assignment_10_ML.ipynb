{
 "cells": [
  {
   "cell_type": "markdown",
   "id": "e5179b2e",
   "metadata": {},
   "source": [
    "## DSC650-T301 Big Data (2235-1)\n",
    "## 5/16/2023\n",
    "## Joshua Greenert"
   ]
  },
  {
   "cell_type": "markdown",
   "id": "e8af2167",
   "metadata": {},
   "source": [
    "## 10.1.a"
   ]
  },
  {
   "cell_type": "code",
   "execution_count": 1,
   "id": "a9471080",
   "metadata": {},
   "outputs": [],
   "source": [
    "# Create a tokenize function that splits a sentence into words. Ensure that your tokenizer removes basic punctuation.\n",
    "import string\n",
    "\n",
    "testString = \"the ! fat cat sat on the stoop, and then went up.\"\n",
    "\n",
    "def tokenize(sentence):\n",
    "    sentence = sentence.translate(str.maketrans('', '', string.punctuation))\n",
    "    tokens = sentence.split()\n",
    "    \n",
    "    return tokens"
   ]
  },
  {
   "cell_type": "code",
   "execution_count": 2,
   "id": "cec516e6",
   "metadata": {},
   "outputs": [
    {
     "data": {
      "text/plain": [
       "['the', 'fat', 'cat', 'sat', 'on', 'the', 'stoop', 'and', 'then', 'went', 'up']"
      ]
     },
     "execution_count": 2,
     "metadata": {},
     "output_type": "execute_result"
    }
   ],
   "source": [
    "tokenize(testString)"
   ]
  },
  {
   "cell_type": "markdown",
   "id": "bd81c721",
   "metadata": {},
   "source": [
    "## 10.1.b"
   ]
  },
  {
   "cell_type": "code",
   "execution_count": 3,
   "id": "33393c4c",
   "metadata": {},
   "outputs": [],
   "source": [
    "# Implement an `ngram` function that splits tokens into N-grams. \n",
    "def ngram(tokens, n):\n",
    "    ngrams = []\n",
    "    # Create n-grams using a sliding window approach\n",
    "    for i in range(len(tokens) - n + 1):\n",
    "        ngram = tokens[i:i+n]\n",
    "        ngrams.append(ngram)\n",
    "    return ngrams"
   ]
  },
  {
   "cell_type": "markdown",
   "id": "b4e0836d",
   "metadata": {},
   "source": [
    "## 10.1.c"
   ]
  },
  {
   "cell_type": "code",
   "execution_count": 4,
   "id": "d3b5fe6e",
   "metadata": {},
   "outputs": [],
   "source": [
    "# Implement an one_hot_encode function to create a vector from a numerical vector from a list of tokens.\n",
    "def one_hot_encode(tokens, num_words):\n",
    "    token_index = {}\n",
    "    results = []\n",
    "    \n",
    "    # Assign unique index to each unique token\n",
    "    for token in tokens:\n",
    "        if token not in token_index:\n",
    "            token_index[token] = len(token_index) + 1\n",
    "    \n",
    "    # Create the one-hot encoded vector\n",
    "    for token in tokens:\n",
    "        if token in token_index:\n",
    "            encoding = [0] * num_words\n",
    "            token_idx = token_index[token]\n",
    "            if token_idx <= num_words:\n",
    "                encoding[token_idx - 1] = 1\n",
    "            results.append(encoding)\n",
    "    \n",
    "    return results"
   ]
  },
  {
   "cell_type": "markdown",
   "id": "6798be65",
   "metadata": {},
   "source": [
    "## 10.2"
   ]
  },
  {
   "cell_type": "code",
   "execution_count": 5,
   "id": "d840a6f6",
   "metadata": {},
   "outputs": [
    {
     "data": {
      "text/html": [
       "<div>\n",
       "<style scoped>\n",
       "    .dataframe tbody tr th:only-of-type {\n",
       "        vertical-align: middle;\n",
       "    }\n",
       "\n",
       "    .dataframe tbody tr th {\n",
       "        vertical-align: top;\n",
       "    }\n",
       "\n",
       "    .dataframe thead th {\n",
       "        text-align: right;\n",
       "    }\n",
       "</style>\n",
       "<table border=\"1\" class=\"dataframe\">\n",
       "  <thead>\n",
       "    <tr style=\"text-align: right;\">\n",
       "      <th></th>\n",
       "      <th>Text</th>\n",
       "      <th>Label</th>\n",
       "    </tr>\n",
       "  </thead>\n",
       "  <tbody>\n",
       "    <tr>\n",
       "      <th>0</th>\n",
       "      <td>Bromwell High is a cartoon comedy. It ran at t...</td>\n",
       "      <td>1</td>\n",
       "    </tr>\n",
       "    <tr>\n",
       "      <th>1</th>\n",
       "      <td>Homelessness (or Houselessness as George Carli...</td>\n",
       "      <td>1</td>\n",
       "    </tr>\n",
       "    <tr>\n",
       "      <th>2</th>\n",
       "      <td>Brilliant over-acting by Lesley Ann Warren. Be...</td>\n",
       "      <td>1</td>\n",
       "    </tr>\n",
       "    <tr>\n",
       "      <th>3</th>\n",
       "      <td>This is easily the most underrated film inn th...</td>\n",
       "      <td>1</td>\n",
       "    </tr>\n",
       "    <tr>\n",
       "      <th>4</th>\n",
       "      <td>This is not the typical Mel Brooks film. It wa...</td>\n",
       "      <td>1</td>\n",
       "    </tr>\n",
       "  </tbody>\n",
       "</table>\n",
       "</div>"
      ],
      "text/plain": [
       "                                                Text  Label\n",
       "0  Bromwell High is a cartoon comedy. It ran at t...      1\n",
       "1  Homelessness (or Houselessness as George Carli...      1\n",
       "2  Brilliant over-acting by Lesley Ann Warren. Be...      1\n",
       "3  This is easily the most underrated film inn th...      1\n",
       "4  This is not the typical Mel Brooks film. It wa...      1"
      ]
     },
     "execution_count": 5,
     "metadata": {},
     "output_type": "execute_result"
    }
   ],
   "source": [
    "# Using listings 6.16, 6.17, and 6.18 in Deep Learning with Python as a guide, \n",
    "# train a sequential model with embeddings on the IMDB data found in data/external/imdb/. \n",
    "# Produce the model performance metrics and training and validation accuracy curves within the Jupyter notebook\n",
    "import os\n",
    "import pandas as pd\n",
    "\n",
    "folder_path_pos = '../../../data/external/imdb/aclImdb/train/pos'\n",
    "folder_path_neg = '../../../data/external/imdb/aclImdb/train/neg'\n",
    "\n",
    "# Create an empty list to store the dataset\n",
    "dataset = []\n",
    "labels = []\n",
    "\n",
    "# Iterate through the positive files\n",
    "for filename in os.listdir(folder_path_pos):\n",
    "    if filename.endswith(\".txt\"):\n",
    "        file_path = os.path.join(folder_path_pos, filename)\n",
    "        with open(file_path, 'r', encoding='utf-8') as file:\n",
    "            content = file.read()\n",
    "            dataset.append(content)\n",
    "            labels.append(1) \n",
    "\n",
    "# Iterate through the negative files\n",
    "for filename in os.listdir(folder_path_neg):\n",
    "    if filename.endswith(\".txt\"):\n",
    "        file_path = os.path.join(folder_path_neg, filename)\n",
    "        with open(file_path, 'r', encoding='utf-8') as file:\n",
    "            content = file.read()\n",
    "            dataset.append(content)\n",
    "            labels.append(0)\n",
    "            \n",
    "# Create a DataFrame from the dataset\n",
    "df_train = pd.DataFrame({'Text': dataset, 'Label': labels})\n",
    "\n",
    "df_train.head(5)"
   ]
  },
  {
   "cell_type": "code",
   "execution_count": 6,
   "id": "53092e36",
   "metadata": {},
   "outputs": [
    {
     "data": {
      "text/html": [
       "<div>\n",
       "<style scoped>\n",
       "    .dataframe tbody tr th:only-of-type {\n",
       "        vertical-align: middle;\n",
       "    }\n",
       "\n",
       "    .dataframe tbody tr th {\n",
       "        vertical-align: top;\n",
       "    }\n",
       "\n",
       "    .dataframe thead th {\n",
       "        text-align: right;\n",
       "    }\n",
       "</style>\n",
       "<table border=\"1\" class=\"dataframe\">\n",
       "  <thead>\n",
       "    <tr style=\"text-align: right;\">\n",
       "      <th></th>\n",
       "      <th>Text</th>\n",
       "      <th>Label</th>\n",
       "    </tr>\n",
       "  </thead>\n",
       "  <tbody>\n",
       "    <tr>\n",
       "      <th>0</th>\n",
       "      <td>I went and saw this movie last night after bei...</td>\n",
       "      <td>1</td>\n",
       "    </tr>\n",
       "    <tr>\n",
       "      <th>1</th>\n",
       "      <td>Actor turned director Bill Paxton follows up h...</td>\n",
       "      <td>1</td>\n",
       "    </tr>\n",
       "    <tr>\n",
       "      <th>2</th>\n",
       "      <td>As a recreational golfer with some knowledge o...</td>\n",
       "      <td>1</td>\n",
       "    </tr>\n",
       "    <tr>\n",
       "      <th>3</th>\n",
       "      <td>I saw this film in a sneak preview, and it is ...</td>\n",
       "      <td>1</td>\n",
       "    </tr>\n",
       "    <tr>\n",
       "      <th>4</th>\n",
       "      <td>Bill Paxton has taken the true story of the 19...</td>\n",
       "      <td>1</td>\n",
       "    </tr>\n",
       "  </tbody>\n",
       "</table>\n",
       "</div>"
      ],
      "text/plain": [
       "                                                Text  Label\n",
       "0  I went and saw this movie last night after bei...      1\n",
       "1  Actor turned director Bill Paxton follows up h...      1\n",
       "2  As a recreational golfer with some knowledge o...      1\n",
       "3  I saw this film in a sneak preview, and it is ...      1\n",
       "4  Bill Paxton has taken the true story of the 19...      1"
      ]
     },
     "execution_count": 6,
     "metadata": {},
     "output_type": "execute_result"
    }
   ],
   "source": [
    "# Perform the same operation with the test data\n",
    "folder_path_pos = '../../../data/external/imdb/aclImdb/test/pos'\n",
    "folder_path_neg = '../../../data/external/imdb/aclImdb/test/neg'\n",
    "\n",
    "# Create an empty list to store the dataset\n",
    "dataset = []\n",
    "labels = []\n",
    "\n",
    "# Iterate through the positive files\n",
    "for filename in os.listdir(folder_path_pos):\n",
    "    if filename.endswith(\".txt\"):\n",
    "        file_path = os.path.join(folder_path_pos, filename)\n",
    "        with open(file_path, 'r', encoding='utf-8') as file:\n",
    "            content = file.read()\n",
    "            dataset.append(content)\n",
    "            labels.append(1) \n",
    "\n",
    "# Iterate through the negative files\n",
    "for filename in os.listdir(folder_path_neg):\n",
    "    if filename.endswith(\".txt\"):\n",
    "        file_path = os.path.join(folder_path_neg, filename)\n",
    "        with open(file_path, 'r', encoding='utf-8') as file:\n",
    "            content = file.read()\n",
    "            dataset.append(content)\n",
    "            labels.append(0)\n",
    "            \n",
    "# Create a DataFrame from the dataset\n",
    "df_test = pd.DataFrame({'Text': dataset, 'Label': labels})\n",
    "\n",
    "df_test.head(5)"
   ]
  },
  {
   "cell_type": "code",
   "execution_count": 7,
   "id": "4e13d811",
   "metadata": {
    "scrolled": true
   },
   "outputs": [
    {
     "name": "stdout",
     "output_type": "stream",
     "text": [
      "Epoch 1/10\n",
      "625/625 [==============================] - 21s 33ms/step - loss: 0.4121 - accuracy: 0.7982 - val_loss: 0.2977 - val_accuracy: 0.8718\n",
      "Epoch 2/10\n",
      "625/625 [==============================] - 20s 33ms/step - loss: 0.1058 - accuracy: 0.9647 - val_loss: 0.3242 - val_accuracy: 0.8750\n",
      "Epoch 3/10\n",
      "625/625 [==============================] - 20s 33ms/step - loss: 0.0151 - accuracy: 0.9980 - val_loss: 0.3158 - val_accuracy: 0.8906\n",
      "Epoch 4/10\n",
      "625/625 [==============================] - 20s 33ms/step - loss: 0.0025 - accuracy: 0.9999 - val_loss: 0.3362 - val_accuracy: 0.8928\n",
      "Epoch 5/10\n",
      "625/625 [==============================] - 20s 33ms/step - loss: 8.8521e-04 - accuracy: 1.0000 - val_loss: 0.3603 - val_accuracy: 0.8944\n",
      "Epoch 6/10\n",
      "625/625 [==============================] - 20s 32ms/step - loss: 4.3459e-04 - accuracy: 1.0000 - val_loss: 0.3790 - val_accuracy: 0.8934\n",
      "Epoch 7/10\n",
      "625/625 [==============================] - 20s 32ms/step - loss: 2.4228e-04 - accuracy: 1.0000 - val_loss: 0.3978 - val_accuracy: 0.8940\n",
      "Epoch 8/10\n",
      "625/625 [==============================] - 20s 33ms/step - loss: 1.4112e-04 - accuracy: 1.0000 - val_loss: 0.4148 - val_accuracy: 0.8944\n",
      "Epoch 9/10\n",
      "625/625 [==============================] - 20s 32ms/step - loss: 8.6483e-05 - accuracy: 1.0000 - val_loss: 0.4311 - val_accuracy: 0.8938\n",
      "Epoch 10/10\n",
      "625/625 [==============================] - 20s 33ms/step - loss: 5.3669e-05 - accuracy: 1.0000 - val_loss: 0.4474 - val_accuracy: 0.8938\n"
     ]
    }
   ],
   "source": [
    "import numpy as np\n",
    "from tensorflow.keras.models import Sequential\n",
    "from tensorflow.keras.layers import Embedding, Flatten, Dense\n",
    "from tensorflow.keras.preprocessing.text import Tokenizer\n",
    "from tensorflow.keras.preprocessing.sequence import pad_sequences\n",
    "from sklearn.model_selection import train_test_split\n",
    "\n",
    "# Tokenize the text data\n",
    "tokenizer = Tokenizer()\n",
    "tokenizer.fit_on_texts(df_train['Text'])\n",
    "sequences = tokenizer.texts_to_sequences(df_train['Text'])\n",
    "\n",
    "# Pad sequences to ensure consistent length\n",
    "max_seq_length = max(len(seq) for seq in sequences)\n",
    "padded_sequences = pad_sequences(sequences, maxlen=max_seq_length)\n",
    "\n",
    "# Split the data into training and validation sets\n",
    "X_train, X_val, y_train, y_val = train_test_split(\n",
    "    padded_sequences, df_train['Label'], test_size=0.2, random_state=42\n",
    ")\n",
    "\n",
    "# Create the sequential model\n",
    "model = Sequential()\n",
    "model.add(Embedding(input_dim=len(tokenizer.word_index) + 1, output_dim=32, input_length=max_seq_length))\n",
    "model.add(Flatten())\n",
    "model.add(Dense(16, activation='relu'))\n",
    "model.add(Dense(1, activation='sigmoid'))\n",
    "\n",
    "# Compile the model\n",
    "model.compile(optimizer='adam', loss='binary_crossentropy', metrics=['accuracy'])\n",
    "\n",
    "history = model.fit(X_train, y_train, validation_data=(X_val, y_val), epochs=10, batch_size=32)"
   ]
  },
  {
   "cell_type": "code",
   "execution_count": 9,
   "id": "9c53d1bc",
   "metadata": {},
   "outputs": [
    {
     "ename": "ValueError",
     "evalue": "invalid literal for int() with base 10: 'I'",
     "output_type": "error",
     "traceback": [
      "\u001b[1;31m---------------------------------------------------------------------------\u001b[0m",
      "\u001b[1;31mValueError\u001b[0m                                Traceback (most recent call last)",
      "Input \u001b[1;32mIn [9]\u001b[0m, in \u001b[0;36m<cell line: 11>\u001b[1;34m()\u001b[0m\n\u001b[0;32m      8\u001b[0m     test_sequences\u001b[38;5;241m.\u001b[39mappend(tokens)\n\u001b[0;32m     10\u001b[0m \u001b[38;5;66;03m# Pad sequences to ensure consistent length\u001b[39;00m\n\u001b[1;32m---> 11\u001b[0m test_padded_sequences \u001b[38;5;241m=\u001b[39m \u001b[43mpad_sequences\u001b[49m\u001b[43m(\u001b[49m\u001b[43mtest_sequences\u001b[49m\u001b[43m,\u001b[49m\u001b[43m \u001b[49m\u001b[43mmaxlen\u001b[49m\u001b[38;5;241;43m=\u001b[39;49m\u001b[43mmax_seq_length\u001b[49m\u001b[43m)\u001b[49m\n\u001b[0;32m     13\u001b[0m \u001b[38;5;66;03m# Evaluate the model on the test data\u001b[39;00m\n\u001b[0;32m     14\u001b[0m test_loss, test_acc \u001b[38;5;241m=\u001b[39m model\u001b[38;5;241m.\u001b[39mevaluate(test_padded_sequences, df_test[\u001b[38;5;124m'\u001b[39m\u001b[38;5;124mLabel\u001b[39m\u001b[38;5;124m'\u001b[39m])\n",
      "File \u001b[1;32m~\\anaconda3\\lib\\site-packages\\keras\\utils\\data_utils.py:1078\u001b[0m, in \u001b[0;36mpad_sequences\u001b[1;34m(sequences, maxlen, dtype, padding, truncating, value)\u001b[0m\n\u001b[0;32m   1075\u001b[0m     \u001b[38;5;28;01mraise\u001b[39;00m \u001b[38;5;167;01mValueError\u001b[39;00m(\u001b[38;5;124mf\u001b[39m\u001b[38;5;124m'\u001b[39m\u001b[38;5;124mTruncating type \u001b[39m\u001b[38;5;124m\"\u001b[39m\u001b[38;5;132;01m{\u001b[39;00mtruncating\u001b[38;5;132;01m}\u001b[39;00m\u001b[38;5;124m\"\u001b[39m\u001b[38;5;124m not understood\u001b[39m\u001b[38;5;124m'\u001b[39m)\n\u001b[0;32m   1077\u001b[0m \u001b[38;5;66;03m# check `trunc` has expected shape\u001b[39;00m\n\u001b[1;32m-> 1078\u001b[0m trunc \u001b[38;5;241m=\u001b[39m \u001b[43mnp\u001b[49m\u001b[38;5;241;43m.\u001b[39;49m\u001b[43masarray\u001b[49m\u001b[43m(\u001b[49m\u001b[43mtrunc\u001b[49m\u001b[43m,\u001b[49m\u001b[43m \u001b[49m\u001b[43mdtype\u001b[49m\u001b[38;5;241;43m=\u001b[39;49m\u001b[43mdtype\u001b[49m\u001b[43m)\u001b[49m\n\u001b[0;32m   1079\u001b[0m \u001b[38;5;28;01mif\u001b[39;00m trunc\u001b[38;5;241m.\u001b[39mshape[\u001b[38;5;241m1\u001b[39m:] \u001b[38;5;241m!=\u001b[39m sample_shape:\n\u001b[0;32m   1080\u001b[0m     \u001b[38;5;28;01mraise\u001b[39;00m \u001b[38;5;167;01mValueError\u001b[39;00m(\n\u001b[0;32m   1081\u001b[0m         \u001b[38;5;124mf\u001b[39m\u001b[38;5;124m\"\u001b[39m\u001b[38;5;124mShape of sample \u001b[39m\u001b[38;5;132;01m{\u001b[39;00mtrunc\u001b[38;5;241m.\u001b[39mshape[\u001b[38;5;241m1\u001b[39m:]\u001b[38;5;132;01m}\u001b[39;00m\u001b[38;5;124m of sequence at \u001b[39m\u001b[38;5;124m\"\u001b[39m\n\u001b[0;32m   1082\u001b[0m         \u001b[38;5;124mf\u001b[39m\u001b[38;5;124m\"\u001b[39m\u001b[38;5;124mposition \u001b[39m\u001b[38;5;132;01m{\u001b[39;00midx\u001b[38;5;132;01m}\u001b[39;00m\u001b[38;5;124m is different from expected shape \u001b[39m\u001b[38;5;124m\"\u001b[39m\n\u001b[0;32m   1083\u001b[0m         \u001b[38;5;124mf\u001b[39m\u001b[38;5;124m\"\u001b[39m\u001b[38;5;132;01m{\u001b[39;00msample_shape\u001b[38;5;132;01m}\u001b[39;00m\u001b[38;5;124m\"\u001b[39m\n\u001b[0;32m   1084\u001b[0m     )\n",
      "\u001b[1;31mValueError\u001b[0m: invalid literal for int() with base 10: 'I'"
     ]
    }
   ],
   "source": [
    "# Convert labels to integers\n",
    "df_test['Label'] = df_test['Label'].astype(int)\n",
    "\n",
    "# Tokenize the text data\n",
    "test_sequences = []\n",
    "for text in df_test['Text']:\n",
    "    tokens = word_tokenize(text)\n",
    "    test_sequences.append(tokens)\n",
    "\n",
    "# Pad sequences to ensure consistent length\n",
    "test_padded_sequences = pad_sequences(test_sequences, maxlen=max_seq_length)\n",
    "\n",
    "# Evaluate the model on the test data\n",
    "test_loss, test_acc = model.evaluate(test_padded_sequences, df_test['Label'])\n",
    "\n",
    "# Print the test accuracy\n",
    "print(\"Model Accuracy:\", test_acc)"
   ]
  },
  {
   "cell_type": "code",
   "execution_count": null,
   "id": "97b49985",
   "metadata": {},
   "outputs": [],
   "source": [
    "import matplotlib.pyplot as plt\n",
    "\n",
    "# Creating training and validation loss and accuracy curves\n",
    "acc = history.history['acc']\n",
    "val_acc = history.history['val_acc']\n",
    "loss = history.history['loss']\n",
    "val_loss = history.history['val_loss']\n",
    "epochs = range(1, len(acc) + 1)\n",
    "plt.plot(epochs, acc, 'bo', label='Training acc')\n",
    "plt.plot(epochs, val_acc, 'b', label='Validation acc')\n",
    "plt.title('Training and validation accuracy')\n",
    "plt.legend()\n",
    "plt.figure()\n",
    "plt.plot(epochs, loss, 'bo', label='Training loss')\n",
    "plt.plot(epochs, val_loss, 'b', label='Validation loss')\n",
    "plt.title('Training and validation loss')\n",
    "plt.legend()\n",
    "plt.show()"
   ]
  },
  {
   "cell_type": "markdown",
   "id": "c1081ad5",
   "metadata": {},
   "source": [
    "## 10.3"
   ]
  },
  {
   "cell_type": "code",
   "execution_count": null,
   "id": "96cce083",
   "metadata": {},
   "outputs": [],
   "source": [
    "# Using listing 6.27 in Deep Learning with Python as a guide, fit the same data with an LSTM layer. \n",
    "# Produce the model performance metrics and training and validation accuracy curves within the Jupyter notebook.\n"
   ]
  },
  {
   "cell_type": "markdown",
   "id": "57019bbe",
   "metadata": {},
   "source": [
    "## 10.4"
   ]
  },
  {
   "cell_type": "code",
   "execution_count": null,
   "id": "79bd860d",
   "metadata": {},
   "outputs": [],
   "source": [
    "# Using listing 6.46 in Deep Learning with Python as a guide, fit the same data with a simple 1D convnet. \n",
    "# Produce the model performance metrics and training and validation accuracy curves within the Jupyter notebook.\n"
   ]
  }
 ],
 "metadata": {
  "kernelspec": {
   "display_name": "Python 3 (ipykernel)",
   "language": "python",
   "name": "python3"
  },
  "language_info": {
   "codemirror_mode": {
    "name": "ipython",
    "version": 3
   },
   "file_extension": ".py",
   "mimetype": "text/x-python",
   "name": "python",
   "nbconvert_exporter": "python",
   "pygments_lexer": "ipython3",
   "version": "3.9.12"
  }
 },
 "nbformat": 4,
 "nbformat_minor": 5
}
