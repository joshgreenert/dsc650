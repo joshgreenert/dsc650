{
 "cells": [
  {
   "cell_type": "markdown",
   "id": "bd9b952e",
   "metadata": {},
   "source": [
    "## DSC650-T301 Big Data (2235-1)\n",
    "## 5/16/2023\n",
    "## Joshua Greenert"
   ]
  },
  {
   "cell_type": "markdown",
   "id": "f0fa57a6",
   "metadata": {},
   "source": [
    "## 10.1.a"
   ]
  },
  {
   "cell_type": "code",
   "execution_count": 1,
   "id": "267e218b",
   "metadata": {},
   "outputs": [],
   "source": [
    "# Create a tokenize function that splits a sentence into words. Ensure that your tokenizer removes basic punctuation.\n",
    "import string\n",
    "\n",
    "testString = \"the ! fat cat sat on the stoop, and then went up.\"\n",
    "\n",
    "def tokenize(sentence):\n",
    "    sentence = sentence.translate(str.maketrans('', '', string.punctuation))\n",
    "    tokens = sentence.split()\n",
    "    \n",
    "    return tokens"
   ]
  },
  {
   "cell_type": "code",
   "execution_count": 2,
   "id": "cc0fbd21",
   "metadata": {},
   "outputs": [
    {
     "data": {
      "text/plain": [
       "['the', 'fat', 'cat', 'sat', 'on', 'the', 'stoop', 'and', 'then', 'went', 'up']"
      ]
     },
     "execution_count": 2,
     "metadata": {},
     "output_type": "execute_result"
    }
   ],
   "source": [
    "tokenize(testString)"
   ]
  },
  {
   "cell_type": "markdown",
   "id": "7f3c9e1e",
   "metadata": {},
   "source": [
    "## 10.1.b"
   ]
  },
  {
   "cell_type": "code",
   "execution_count": 3,
   "id": "3b9ee2a1",
   "metadata": {},
   "outputs": [],
   "source": [
    "# Implement an `ngram` function that splits tokens into N-grams. \n",
    "def ngram(tokens, n):\n",
    "    ngrams = []\n",
    "    # Create n-grams using a sliding window approach\n",
    "    for i in range(len(tokens) - n + 1):\n",
    "        ngram = tokens[i:i+n]\n",
    "        ngrams.append(ngram)\n",
    "    return ngrams"
   ]
  },
  {
   "cell_type": "markdown",
   "id": "ae2f784d",
   "metadata": {},
   "source": [
    "## 10.1.c"
   ]
  },
  {
   "cell_type": "code",
   "execution_count": 4,
   "id": "21c86032",
   "metadata": {},
   "outputs": [],
   "source": [
    "# Implement an one_hot_encode function to create a vector from a numerical vector from a list of tokens.\n",
    "def one_hot_encode(tokens, num_words):\n",
    "    token_index = {}\n",
    "    results = []\n",
    "    \n",
    "    # Assign unique index to each unique token\n",
    "    for token in tokens:\n",
    "        if token not in token_index:\n",
    "            token_index[token] = len(token_index) + 1\n",
    "    \n",
    "    # Create the one-hot encoded vector\n",
    "    for token in tokens:\n",
    "        encoding = [0] * num_words\n",
    "        token_idx = token_index[token]\n",
    "        encoding[token_idx - 1] = 1\n",
    "        results.append(encoding)\n",
    "    \n",
    "    return results"
   ]
  },
  {
   "cell_type": "markdown",
   "id": "bc209573",
   "metadata": {},
   "source": [
    "## 10.2"
   ]
  },
  {
   "cell_type": "code",
   "execution_count": null,
   "id": "09262ab9",
   "metadata": {},
   "outputs": [],
   "source": [
    "# Using listings 6.16, 6.17, and 6.18 in Deep Learning with Python as a guide, \n",
    "# train a sequential model with embeddings on the IMDB data found in data/external/imdb/. \n",
    "# Produce the model performance metrics and training and validation accuracy curves within the Jupyter notebook\n"
   ]
  },
  {
   "cell_type": "markdown",
   "id": "b95adf0b",
   "metadata": {},
   "source": [
    "## 10.3"
   ]
  },
  {
   "cell_type": "code",
   "execution_count": null,
   "id": "5a0efda1",
   "metadata": {},
   "outputs": [],
   "source": [
    "# Using listing 6.27 in Deep Learning with Python as a guide, fit the same data with an LSTM layer. \n",
    "# Produce the model performance metrics and training and validation accuracy curves within the Jupyter notebook.\n"
   ]
  },
  {
   "cell_type": "markdown",
   "id": "4c506dc6",
   "metadata": {},
   "source": [
    "## 10.4"
   ]
  },
  {
   "cell_type": "code",
   "execution_count": null,
   "id": "7cc0e2e6",
   "metadata": {},
   "outputs": [],
   "source": [
    "# Using listing 6.46 in Deep Learning with Python as a guide, fit the same data with a simple 1D convnet. \n",
    "# Produce the model performance metrics and training and validation accuracy curves within the Jupyter notebook.\n"
   ]
  }
 ],
 "metadata": {
  "kernelspec": {
   "display_name": "Python 3 (ipykernel)",
   "language": "python",
   "name": "python3"
  },
  "language_info": {
   "codemirror_mode": {
    "name": "ipython",
    "version": 3
   },
   "file_extension": ".py",
   "mimetype": "text/x-python",
   "name": "python",
   "nbconvert_exporter": "python",
   "pygments_lexer": "ipython3",
   "version": "3.9.12"
  }
 },
 "nbformat": 4,
 "nbformat_minor": 5
}
