{
 "cells": [
  {
   "cell_type": "markdown",
   "id": "be88ebb1",
   "metadata": {},
   "source": [
    "## DSC650-T301 Big Data (2235-1)\n",
    "## 5/16/2023\n",
    "## Joshua Greenert"
   ]
  },
  {
   "cell_type": "markdown",
   "id": "692c8070",
   "metadata": {},
   "source": [
    "## 10.1.a"
   ]
  },
  {
   "cell_type": "code",
   "execution_count": 1,
   "id": "249cf411",
   "metadata": {},
   "outputs": [],
   "source": [
    "# Create a tokenize function that splits a sentence into words. Ensure that your tokenizer removes basic punctuation.\n",
    "import string\n",
    "\n",
    "testString = \"the ! fat cat sat on the stoop, and then went up.\"\n",
    "\n",
    "def tokenize(sentence):\n",
    "    sentence = sentence.translate(str.maketrans('', '', string.punctuation))\n",
    "    tokens = sentence.split()\n",
    "    \n",
    "    return tokens"
   ]
  },
  {
   "cell_type": "code",
   "execution_count": 2,
   "id": "8ebb1805",
   "metadata": {},
   "outputs": [
    {
     "data": {
      "text/plain": [
       "['the', 'fat', 'cat', 'sat', 'on', 'the', 'stoop', 'and', 'then', 'went', 'up']"
      ]
     },
     "execution_count": 2,
     "metadata": {},
     "output_type": "execute_result"
    }
   ],
   "source": [
    "tokenize(testString)"
   ]
  },
  {
   "cell_type": "markdown",
   "id": "4ae0c970",
   "metadata": {},
   "source": [
    "## 10.1.b"
   ]
  },
  {
   "cell_type": "code",
   "execution_count": 3,
   "id": "b615287c",
   "metadata": {},
   "outputs": [],
   "source": [
    "# Implement an `ngram` function that splits tokens into N-grams. \n",
    "def ngram(tokens, n):\n",
    "    ngrams = []\n",
    "    # Create n-grams using a sliding window approach\n",
    "    for i in range(len(tokens) - n + 1):\n",
    "        ngram = tokens[i:i+n]\n",
    "        ngrams.append(ngram)\n",
    "    return ngrams"
   ]
  },
  {
   "cell_type": "markdown",
   "id": "ceda7180",
   "metadata": {},
   "source": [
    "## 10.1.c"
   ]
  },
  {
   "cell_type": "code",
   "execution_count": 4,
   "id": "9d0e4611",
   "metadata": {},
   "outputs": [],
   "source": [
    "# Implement an one_hot_encode function to create a vector from a numerical vector from a list of tokens.\n",
    "def one_hot_encode(tokens, num_words):\n",
    "    token_index = {}\n",
    "    results = []\n",
    "    \n",
    "    # Assign unique index to each unique token\n",
    "    for token in tokens:\n",
    "        if token not in token_index:\n",
    "            token_index[token] = len(token_index) + 1\n",
    "    \n",
    "    # Create the one-hot encoded vector\n",
    "    for token in tokens:\n",
    "        encoding = [0] * num_words\n",
    "        token_idx = token_index[token]\n",
    "        encoding[token_idx - 1] = 1\n",
    "        results.append(encoding)\n",
    "    \n",
    "    return results"
   ]
  },
  {
   "cell_type": "markdown",
   "id": "51c8a24f",
   "metadata": {},
   "source": [
    "## 10.2"
   ]
  },
  {
   "cell_type": "code",
   "execution_count": 12,
   "id": "3deb518d",
   "metadata": {},
   "outputs": [
    {
     "data": {
      "text/html": [
       "<div>\n",
       "<style scoped>\n",
       "    .dataframe tbody tr th:only-of-type {\n",
       "        vertical-align: middle;\n",
       "    }\n",
       "\n",
       "    .dataframe tbody tr th {\n",
       "        vertical-align: top;\n",
       "    }\n",
       "\n",
       "    .dataframe thead th {\n",
       "        text-align: right;\n",
       "    }\n",
       "</style>\n",
       "<table border=\"1\" class=\"dataframe\">\n",
       "  <thead>\n",
       "    <tr style=\"text-align: right;\">\n",
       "      <th></th>\n",
       "      <th>Text</th>\n",
       "      <th>Label</th>\n",
       "    </tr>\n",
       "  </thead>\n",
       "  <tbody>\n",
       "    <tr>\n",
       "      <th>0</th>\n",
       "      <td>Bromwell High is a cartoon comedy. It ran at t...</td>\n",
       "      <td>1</td>\n",
       "    </tr>\n",
       "    <tr>\n",
       "      <th>1</th>\n",
       "      <td>Homelessness (or Houselessness as George Carli...</td>\n",
       "      <td>1</td>\n",
       "    </tr>\n",
       "    <tr>\n",
       "      <th>2</th>\n",
       "      <td>Brilliant over-acting by Lesley Ann Warren. Be...</td>\n",
       "      <td>1</td>\n",
       "    </tr>\n",
       "    <tr>\n",
       "      <th>3</th>\n",
       "      <td>This is easily the most underrated film inn th...</td>\n",
       "      <td>1</td>\n",
       "    </tr>\n",
       "    <tr>\n",
       "      <th>4</th>\n",
       "      <td>This is not the typical Mel Brooks film. It wa...</td>\n",
       "      <td>1</td>\n",
       "    </tr>\n",
       "  </tbody>\n",
       "</table>\n",
       "</div>"
      ],
      "text/plain": [
       "                                                Text  Label\n",
       "0  Bromwell High is a cartoon comedy. It ran at t...      1\n",
       "1  Homelessness (or Houselessness as George Carli...      1\n",
       "2  Brilliant over-acting by Lesley Ann Warren. Be...      1\n",
       "3  This is easily the most underrated film inn th...      1\n",
       "4  This is not the typical Mel Brooks film. It wa...      1"
      ]
     },
     "execution_count": 12,
     "metadata": {},
     "output_type": "execute_result"
    }
   ],
   "source": [
    "# Using listings 6.16, 6.17, and 6.18 in Deep Learning with Python as a guide, \n",
    "# train a sequential model with embeddings on the IMDB data found in data/external/imdb/. \n",
    "# Produce the model performance metrics and training and validation accuracy curves within the Jupyter notebook\n",
    "import os\n",
    "import pandas as pd\n",
    "\n",
    "folder_path_pos = '../../../data/external/imdb/aclImdb/train/pos'\n",
    "folder_path_neg = '../../../data/external/imdb/aclImdb/train/neg'\n",
    "\n",
    "# Create an empty list to store the dataset\n",
    "dataset = []\n",
    "labels = []\n",
    "\n",
    "# Iterate through the positive files\n",
    "for filename in os.listdir(folder_path_pos):\n",
    "    if filename.endswith(\".txt\"):\n",
    "        file_path = os.path.join(folder_path_pos, filename)\n",
    "        with open(file_path, 'r', encoding='utf-8') as file:\n",
    "            content = file.read()\n",
    "            dataset.append(content)\n",
    "            labels.append(1) \n",
    "\n",
    "# Iterate through the negative files\n",
    "for filename in os.listdir(folder_path_neg):\n",
    "    if filename.endswith(\".txt\"):\n",
    "        file_path = os.path.join(folder_path_neg, filename)\n",
    "        with open(file_path, 'r', encoding='utf-8') as file:\n",
    "            content = file.read()\n",
    "            dataset.append(content)\n",
    "            labels.append(0)\n",
    "            \n",
    "# Create a DataFrame from the dataset\n",
    "df_train = pd.DataFrame({'Text': dataset, 'Label': labels})\n",
    "\n",
    "df_train.head(5)"
   ]
  },
  {
   "cell_type": "code",
   "execution_count": 13,
   "id": "f3e5eb94",
   "metadata": {},
   "outputs": [
    {
     "data": {
      "text/html": [
       "<div>\n",
       "<style scoped>\n",
       "    .dataframe tbody tr th:only-of-type {\n",
       "        vertical-align: middle;\n",
       "    }\n",
       "\n",
       "    .dataframe tbody tr th {\n",
       "        vertical-align: top;\n",
       "    }\n",
       "\n",
       "    .dataframe thead th {\n",
       "        text-align: right;\n",
       "    }\n",
       "</style>\n",
       "<table border=\"1\" class=\"dataframe\">\n",
       "  <thead>\n",
       "    <tr style=\"text-align: right;\">\n",
       "      <th></th>\n",
       "      <th>Text</th>\n",
       "      <th>Label</th>\n",
       "    </tr>\n",
       "  </thead>\n",
       "  <tbody>\n",
       "    <tr>\n",
       "      <th>0</th>\n",
       "      <td>I went and saw this movie last night after bei...</td>\n",
       "      <td>1</td>\n",
       "    </tr>\n",
       "    <tr>\n",
       "      <th>1</th>\n",
       "      <td>Actor turned director Bill Paxton follows up h...</td>\n",
       "      <td>1</td>\n",
       "    </tr>\n",
       "    <tr>\n",
       "      <th>2</th>\n",
       "      <td>As a recreational golfer with some knowledge o...</td>\n",
       "      <td>1</td>\n",
       "    </tr>\n",
       "    <tr>\n",
       "      <th>3</th>\n",
       "      <td>I saw this film in a sneak preview, and it is ...</td>\n",
       "      <td>1</td>\n",
       "    </tr>\n",
       "    <tr>\n",
       "      <th>4</th>\n",
       "      <td>Bill Paxton has taken the true story of the 19...</td>\n",
       "      <td>1</td>\n",
       "    </tr>\n",
       "  </tbody>\n",
       "</table>\n",
       "</div>"
      ],
      "text/plain": [
       "                                                Text  Label\n",
       "0  I went and saw this movie last night after bei...      1\n",
       "1  Actor turned director Bill Paxton follows up h...      1\n",
       "2  As a recreational golfer with some knowledge o...      1\n",
       "3  I saw this film in a sneak preview, and it is ...      1\n",
       "4  Bill Paxton has taken the true story of the 19...      1"
      ]
     },
     "execution_count": 13,
     "metadata": {},
     "output_type": "execute_result"
    }
   ],
   "source": [
    "# Perform the same operation with the test data\n",
    "folder_path_pos = '../../../data/external/imdb/aclImdb/test/pos'\n",
    "folder_path_neg = '../../../data/external/imdb/aclImdb/test/neg'\n",
    "\n",
    "# Create an empty list to store the dataset\n",
    "dataset = []\n",
    "labels = []\n",
    "\n",
    "# Iterate through the positive files\n",
    "for filename in os.listdir(folder_path_pos):\n",
    "    if filename.endswith(\".txt\"):\n",
    "        file_path = os.path.join(folder_path_pos, filename)\n",
    "        with open(file_path, 'r', encoding='utf-8') as file:\n",
    "            content = file.read()\n",
    "            dataset.append(content)\n",
    "            labels.append(1) \n",
    "\n",
    "# Iterate through the negative files\n",
    "for filename in os.listdir(folder_path_neg):\n",
    "    if filename.endswith(\".txt\"):\n",
    "        file_path = os.path.join(folder_path_neg, filename)\n",
    "        with open(file_path, 'r', encoding='utf-8') as file:\n",
    "            content = file.read()\n",
    "            dataset.append(content)\n",
    "            labels.append(0)\n",
    "            \n",
    "# Create a DataFrame from the dataset\n",
    "df_test = pd.DataFrame({'Text': dataset, 'Label': labels})\n",
    "\n",
    "df_test.head(5)"
   ]
  },
  {
   "cell_type": "code",
   "execution_count": 11,
   "id": "fc89eed8",
   "metadata": {},
   "outputs": [
    {
     "ename": "ValueError",
     "evalue": "invalid literal for int() with base 10: \"assic line: INSPECTOR: I'm here to sack one of your teachers. STUDENT: Welcome to Bromwell High. I expect that many adults of my age think that Bromwell High is far fetched. What a pity that it isn't",
     "output_type": "error",
     "traceback": [
      "\u001b[1;31m---------------------------------------------------------------------------\u001b[0m",
      "\u001b[1;31mValueError\u001b[0m                                Traceback (most recent call last)",
      "Input \u001b[1;32mIn [11]\u001b[0m, in \u001b[0;36m<cell line: 9>\u001b[1;34m()\u001b[0m\n\u001b[0;32m      6\u001b[0m \u001b[38;5;28;01mimport\u001b[39;00m \u001b[38;5;21;01mmatplotlib\u001b[39;00m\u001b[38;5;21;01m.\u001b[39;00m\u001b[38;5;21;01mpyplot\u001b[39;00m \u001b[38;5;28;01mas\u001b[39;00m \u001b[38;5;21;01mplt\u001b[39;00m\n\u001b[0;32m      8\u001b[0m maxlen \u001b[38;5;241m=\u001b[39m \u001b[38;5;241m200\u001b[39m  \u001b[38;5;66;03m# maximum sequence length\u001b[39;00m\n\u001b[1;32m----> 9\u001b[0m x \u001b[38;5;241m=\u001b[39m \u001b[43mpad_sequences\u001b[49m\u001b[43m(\u001b[49m\u001b[43mdf\u001b[49m\u001b[43m[\u001b[49m\u001b[38;5;124;43m'\u001b[39;49m\u001b[38;5;124;43mText\u001b[39;49m\u001b[38;5;124;43m'\u001b[39;49m\u001b[43m]\u001b[49m\u001b[43m,\u001b[49m\u001b[43m \u001b[49m\u001b[43mmaxlen\u001b[49m\u001b[38;5;241;43m=\u001b[39;49m\u001b[43mmaxlen\u001b[49m\u001b[43m)\u001b[49m\n\u001b[0;32m     10\u001b[0m y \u001b[38;5;241m=\u001b[39m df[\u001b[38;5;124m'\u001b[39m\u001b[38;5;124mLabel\u001b[39m\u001b[38;5;124m'\u001b[39m]\n\u001b[0;32m     12\u001b[0m embedding_dim \u001b[38;5;241m=\u001b[39m \u001b[38;5;241m100\u001b[39m\n",
      "File \u001b[1;32m~\\anaconda3\\lib\\site-packages\\keras\\utils\\data_utils.py:1078\u001b[0m, in \u001b[0;36mpad_sequences\u001b[1;34m(sequences, maxlen, dtype, padding, truncating, value)\u001b[0m\n\u001b[0;32m   1075\u001b[0m     \u001b[38;5;28;01mraise\u001b[39;00m \u001b[38;5;167;01mValueError\u001b[39;00m(\u001b[38;5;124mf\u001b[39m\u001b[38;5;124m'\u001b[39m\u001b[38;5;124mTruncating type \u001b[39m\u001b[38;5;124m\"\u001b[39m\u001b[38;5;132;01m{\u001b[39;00mtruncating\u001b[38;5;132;01m}\u001b[39;00m\u001b[38;5;124m\"\u001b[39m\u001b[38;5;124m not understood\u001b[39m\u001b[38;5;124m'\u001b[39m)\n\u001b[0;32m   1077\u001b[0m \u001b[38;5;66;03m# check `trunc` has expected shape\u001b[39;00m\n\u001b[1;32m-> 1078\u001b[0m trunc \u001b[38;5;241m=\u001b[39m \u001b[43mnp\u001b[49m\u001b[38;5;241;43m.\u001b[39;49m\u001b[43masarray\u001b[49m\u001b[43m(\u001b[49m\u001b[43mtrunc\u001b[49m\u001b[43m,\u001b[49m\u001b[43m \u001b[49m\u001b[43mdtype\u001b[49m\u001b[38;5;241;43m=\u001b[39;49m\u001b[43mdtype\u001b[49m\u001b[43m)\u001b[49m\n\u001b[0;32m   1079\u001b[0m \u001b[38;5;28;01mif\u001b[39;00m trunc\u001b[38;5;241m.\u001b[39mshape[\u001b[38;5;241m1\u001b[39m:] \u001b[38;5;241m!=\u001b[39m sample_shape:\n\u001b[0;32m   1080\u001b[0m     \u001b[38;5;28;01mraise\u001b[39;00m \u001b[38;5;167;01mValueError\u001b[39;00m(\n\u001b[0;32m   1081\u001b[0m         \u001b[38;5;124mf\u001b[39m\u001b[38;5;124m\"\u001b[39m\u001b[38;5;124mShape of sample \u001b[39m\u001b[38;5;132;01m{\u001b[39;00mtrunc\u001b[38;5;241m.\u001b[39mshape[\u001b[38;5;241m1\u001b[39m:]\u001b[38;5;132;01m}\u001b[39;00m\u001b[38;5;124m of sequence at \u001b[39m\u001b[38;5;124m\"\u001b[39m\n\u001b[0;32m   1082\u001b[0m         \u001b[38;5;124mf\u001b[39m\u001b[38;5;124m\"\u001b[39m\u001b[38;5;124mposition \u001b[39m\u001b[38;5;132;01m{\u001b[39;00midx\u001b[38;5;132;01m}\u001b[39;00m\u001b[38;5;124m is different from expected shape \u001b[39m\u001b[38;5;124m\"\u001b[39m\n\u001b[0;32m   1083\u001b[0m         \u001b[38;5;124mf\u001b[39m\u001b[38;5;124m\"\u001b[39m\u001b[38;5;132;01m{\u001b[39;00msample_shape\u001b[38;5;132;01m}\u001b[39;00m\u001b[38;5;124m\"\u001b[39m\n\u001b[0;32m   1084\u001b[0m     )\n",
      "\u001b[1;31mValueError\u001b[0m: invalid literal for int() with base 10: \"assic line: INSPECTOR: I'm here to sack one of your teachers. STUDENT: Welcome to Bromwell High. I expect that many adults of my age think that Bromwell High is far fetched. What a pity that it isn't"
     ]
    }
   ],
   "source": [
    "import numpy as np\n",
    "from tensorflow import keras\n",
    "from tensorflow.keras.preprocessing.sequence import pad_sequences\n",
    "from tensorflow.keras.models import Sequential\n",
    "from tensorflow.keras.layers import Embedding, LSTM, Dense, Dropout\n",
    "import matplotlib.pyplot as plt\n",
    "\n",
    "maxlen = 200  # maximum sequence length\n",
    "x = pad_sequences(df['Text'], maxlen=maxlen)\n",
    "y = df['Label']\n",
    "\n",
    "embedding_dim = 100\n",
    "\n",
    "# Create the model\n",
    "model = Sequential()\n",
    "model.add(Embedding(input_dim=10000, output_dim=embedding_dim, input_length=maxlen))\n",
    "model.add(LSTM(units=64, dropout=0.2, recurrent_dropout=0.2))\n",
    "model.add(Dense(units=1, activation='sigmoid'))\n",
    "\n",
    "model.compile(loss='binary_crossentropy', optimizer='adam', metrics=['accuracy'])"
   ]
  },
  {
   "cell_type": "code",
   "execution_count": null,
   "id": "6be8ec1c",
   "metadata": {},
   "outputs": [],
   "source": [
    "# Set a history object.\n",
    "history = model.fit(x, y, epochs=10, batch_size=128)"
   ]
  },
  {
   "cell_type": "code",
   "execution_count": null,
   "id": "9c48b31a",
   "metadata": {},
   "outputs": [],
   "source": [
    "# Plot the data \n",
    "plt.plot(history.history['accuracy'])\n",
    "plt.title('Training Accuracy')\n",
    "plt.xlabel('Epoch')\n",
    "plt.ylabel('Accuracy')\n",
    "plt.show()"
   ]
  },
  {
   "cell_type": "code",
   "execution_count": null,
   "id": "1009e379",
   "metadata": {},
   "outputs": [],
   "source": [
    "# Plot loss and accuracy\n",
    "loss, accuracy = model.evaluate(x, y)\n",
    "print('Training Loss:', loss)\n",
    "print('Training Accuracy:', accuracy)"
   ]
  },
  {
   "cell_type": "markdown",
   "id": "82cbb0f4",
   "metadata": {},
   "source": [
    "## 10.3"
   ]
  },
  {
   "cell_type": "code",
   "execution_count": null,
   "id": "d7a37917",
   "metadata": {},
   "outputs": [],
   "source": [
    "# Using listing 6.27 in Deep Learning with Python as a guide, fit the same data with an LSTM layer. \n",
    "# Produce the model performance metrics and training and validation accuracy curves within the Jupyter notebook.\n"
   ]
  },
  {
   "cell_type": "markdown",
   "id": "c70ffbd3",
   "metadata": {},
   "source": [
    "## 10.4"
   ]
  },
  {
   "cell_type": "code",
   "execution_count": null,
   "id": "ab84d70d",
   "metadata": {},
   "outputs": [],
   "source": [
    "# Using listing 6.46 in Deep Learning with Python as a guide, fit the same data with a simple 1D convnet. \n",
    "# Produce the model performance metrics and training and validation accuracy curves within the Jupyter notebook.\n"
   ]
  }
 ],
 "metadata": {
  "kernelspec": {
   "display_name": "Python 3 (ipykernel)",
   "language": "python",
   "name": "python3"
  },
  "language_info": {
   "codemirror_mode": {
    "name": "ipython",
    "version": 3
   },
   "file_extension": ".py",
   "mimetype": "text/x-python",
   "name": "python",
   "nbconvert_exporter": "python",
   "pygments_lexer": "ipython3",
   "version": "3.9.12"
  }
 },
 "nbformat": 4,
 "nbformat_minor": 5
}
