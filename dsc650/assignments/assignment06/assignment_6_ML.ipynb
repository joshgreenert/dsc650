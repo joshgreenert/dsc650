{
 "cells": [
  {
   "cell_type": "markdown",
   "id": "14356dc9",
   "metadata": {},
   "source": [
    "## DSC650-T301 Big Data (2235-1)\n",
    "## 4/18/2023\n",
    "## Joshua Greenert"
   ]
  },
  {
   "cell_type": "markdown",
   "id": "b55ae230",
   "metadata": {},
   "source": [
    "## 6.1\n"
   ]
  },
  {
   "cell_type": "code",
   "execution_count": 23,
   "id": "c20286d6",
   "metadata": {},
   "outputs": [],
   "source": [
    "from keras import layers\n",
    "from keras import models\n",
    "\n",
    "model = models.Sequential()\n",
    "model.add(layers.Conv2D(32, (3, 3), activation = 'relu', input_shape = (28, 28, 1)))\n",
    "model.add(layers.MaxPooling2D((2, 2)))\n",
    "model.add(layers.Conv2D(64, (3,3), activation = 'relu'))\n",
    "model.add(layers.MaxPooling2D((2, 2)))\n",
    "model.add(layers.Conv2D(64, (3,3), activation = 'relu'))"
   ]
  },
  {
   "cell_type": "code",
   "execution_count": 24,
   "id": "2af83ba7",
   "metadata": {},
   "outputs": [
    {
     "name": "stdout",
     "output_type": "stream",
     "text": [
      "Model: \"sequential_3\"\n",
      "_________________________________________________________________\n",
      " Layer (type)                Output Shape              Param #   \n",
      "=================================================================\n",
      " conv2d_9 (Conv2D)           (None, 26, 26, 32)        320       \n",
      "                                                                 \n",
      " max_pooling2d_6 (MaxPooling  (None, 13, 13, 32)       0         \n",
      " 2D)                                                             \n",
      "                                                                 \n",
      " conv2d_10 (Conv2D)          (None, 11, 11, 64)        18496     \n",
      "                                                                 \n",
      " max_pooling2d_7 (MaxPooling  (None, 5, 5, 64)         0         \n",
      " 2D)                                                             \n",
      "                                                                 \n",
      " conv2d_11 (Conv2D)          (None, 3, 3, 64)          36928     \n",
      "                                                                 \n",
      "=================================================================\n",
      "Total params: 55,744\n",
      "Trainable params: 55,744\n",
      "Non-trainable params: 0\n",
      "_________________________________________________________________\n"
     ]
    }
   ],
   "source": [
    "# Display the architecture of the convnet so far.\n",
    "model.summary()"
   ]
  },
  {
   "cell_type": "code",
   "execution_count": 25,
   "id": "2478d257",
   "metadata": {},
   "outputs": [],
   "source": [
    "# Adding a classifier on top of the convnet\n",
    "model.add(layers.Flatten())\n",
    "model.add(layers.Dense(64, activation = 'relu'))\n",
    "model.add(layers.Dense(10, activation = 'softmax'))"
   ]
  },
  {
   "cell_type": "code",
   "execution_count": 26,
   "id": "d23b3e07",
   "metadata": {},
   "outputs": [
    {
     "name": "stdout",
     "output_type": "stream",
     "text": [
      "Model: \"sequential_3\"\n",
      "_________________________________________________________________\n",
      " Layer (type)                Output Shape              Param #   \n",
      "=================================================================\n",
      " conv2d_9 (Conv2D)           (None, 26, 26, 32)        320       \n",
      "                                                                 \n",
      " max_pooling2d_6 (MaxPooling  (None, 13, 13, 32)       0         \n",
      " 2D)                                                             \n",
      "                                                                 \n",
      " conv2d_10 (Conv2D)          (None, 11, 11, 64)        18496     \n",
      "                                                                 \n",
      " max_pooling2d_7 (MaxPooling  (None, 5, 5, 64)         0         \n",
      " 2D)                                                             \n",
      "                                                                 \n",
      " conv2d_11 (Conv2D)          (None, 3, 3, 64)          36928     \n",
      "                                                                 \n",
      " flatten_3 (Flatten)         (None, 576)               0         \n",
      "                                                                 \n",
      " dense_6 (Dense)             (None, 64)                36928     \n",
      "                                                                 \n",
      " dense_7 (Dense)             (None, 10)                650       \n",
      "                                                                 \n",
      "=================================================================\n",
      "Total params: 93,322\n",
      "Trainable params: 93,322\n",
      "Non-trainable params: 0\n",
      "_________________________________________________________________\n"
     ]
    }
   ],
   "source": [
    "# View the summary\n",
    "model.summary()"
   ]
  },
  {
   "cell_type": "code",
   "execution_count": 27,
   "id": "9e1ab65a",
   "metadata": {},
   "outputs": [
    {
     "name": "stdout",
     "output_type": "stream",
     "text": [
      "Epoch 1/5\n",
      "938/938 [==============================] - 18s 19ms/step - loss: 0.1644 - acc: 0.9482\n",
      "Epoch 2/5\n",
      "938/938 [==============================] - 18s 19ms/step - loss: 0.0461 - acc: 0.9856\n",
      "Epoch 3/5\n",
      "938/938 [==============================] - 18s 19ms/step - loss: 0.0320 - acc: 0.9901\n",
      "Epoch 4/5\n",
      "938/938 [==============================] - 18s 19ms/step - loss: 0.0247 - acc: 0.9926\n",
      "Epoch 5/5\n",
      "938/938 [==============================] - 18s 19ms/step - loss: 0.0195 - acc: 0.9941\n"
     ]
    },
    {
     "data": {
      "text/plain": [
       "<keras.callbacks.History at 0x251a2974d90>"
      ]
     },
     "execution_count": 27,
     "metadata": {},
     "output_type": "execute_result"
    }
   ],
   "source": [
    "# Training the convnet on MNIST images\n",
    "from keras.datasets import mnist\n",
    "from keras.utils import to_categorical\n",
    "from keras import optimizers\n",
    "\n",
    "# set an SGD optimizer with a static learning rate.\n",
    "# opt = optimizers.SGD(learning_rate=0.01)\n",
    "\n",
    "(train_images, train_labels), (test_images, test_labels) = mnist.load_data()\n",
    "\n",
    "train_images = train_images.reshape((60000, 28, 28, 1))\n",
    "train_images = train_images.astype('float32') / 255\n",
    "\n",
    "test_images = test_images.reshape((10000, 28, 28, 1))\n",
    "test_images = test_images.astype('float32') / 255\n",
    "\n",
    "train_labels = to_categorical(train_labels)\n",
    "test_labels = to_categorical(test_labels)\n",
    "\n",
    "model.compile(optimizer = 'rmsprop', loss = 'categorical_crossentropy', metrics = ['acc'])\n",
    "model.fit(train_images, train_labels, epochs=5, batch_size=64)"
   ]
  },
  {
   "cell_type": "code",
   "execution_count": 28,
   "id": "f2708f7d",
   "metadata": {},
   "outputs": [
    {
     "name": "stdout",
     "output_type": "stream",
     "text": [
      "313/313 [==============================] - 1s 4ms/step - loss: 0.0275 - acc: 0.9914\n"
     ]
    },
    {
     "data": {
      "text/plain": [
       "0.9914000034332275"
      ]
     },
     "execution_count": 28,
     "metadata": {},
     "output_type": "execute_result"
    }
   ],
   "source": [
    "# Evaluate the model\n",
    "test_loss, test_acc = model.evaluate(test_images, test_labels)\n",
    "test_acc"
   ]
  },
  {
   "cell_type": "code",
   "execution_count": 29,
   "id": "d93fda18",
   "metadata": {
    "scrolled": true
   },
   "outputs": [
    {
     "name": "stdout",
     "output_type": "stream",
     "text": [
      "Epoch 1/5\n",
      "750/750 [==============================] - 16s 21ms/step - loss: 0.0153 - acc: 0.9953 - val_loss: 0.0152 - val_acc: 0.9952\n",
      "Epoch 2/5\n",
      "750/750 [==============================] - 16s 21ms/step - loss: 0.0122 - acc: 0.9963 - val_loss: 0.0169 - val_acc: 0.9947\n",
      "Epoch 3/5\n",
      "750/750 [==============================] - 16s 21ms/step - loss: 0.0106 - acc: 0.9968 - val_loss: 0.0167 - val_acc: 0.9946\n",
      "Epoch 4/5\n",
      "750/750 [==============================] - 16s 21ms/step - loss: 0.0088 - acc: 0.9974 - val_loss: 0.0283 - val_acc: 0.9933\n",
      "Epoch 5/5\n",
      "750/750 [==============================] - 16s 21ms/step - loss: 0.0067 - acc: 0.9981 - val_loss: 0.0335 - val_acc: 0.9927\n"
     ]
    }
   ],
   "source": [
    "from sklearn.model_selection import train_test_split\n",
    "\n",
    "# Create a train-test split.\n",
    "train_images, val_images, train_labels, val_labels = train_test_split(train_images, train_labels, test_size=0.2)\n",
    "\n",
    "# Create a history object to use for plotting.\n",
    "history = model.fit(train_images, train_labels, epochs=5, batch_size=64, validation_data=(val_images, val_labels))"
   ]
  },
  {
   "cell_type": "code",
   "execution_count": 30,
   "id": "9195ff63",
   "metadata": {},
   "outputs": [
    {
     "data": {
      "image/png": "[encoded data removed]",
      "text/plain": [
       "<Figure size 432x288 with 1 Axes>"
      ]
     },
     "metadata": {
      "needs_background": "light"
     },
     "output_type": "display_data"
    }
   ],
   "source": [
    "# Create a plot to view the training and validation loss\n",
    "import matplotlib.pyplot as plt\n",
    "\n",
    "history_dict = history.history\n",
    "loss_values = history_dict['loss']\n",
    "val_loss_values = history_dict['val_loss']\n",
    "\n",
    "epochs = range(1, len(loss_values) + 1)\n",
    "\n",
    "plt.plot(epochs, loss_values, 'bo', label='Training loss')\n",
    "plt.plot(epochs, val_loss_values, 'b', label='Validation loss')\n",
    "plt.title('Training and validation loss')\n",
    "plt.xlabel('Epochs')\n",
    "plt.ylabel('Loss')\n",
    "plt.legend()\n",
    "\n",
    "plt.show()"
   ]
  },
  {
   "cell_type": "code",
   "execution_count": 33,
   "id": "40ea7575",
   "metadata": {},
   "outputs": [
    {
     "data": {
      "image/png": "[encoded data removed]",
      "text/plain": [
       "<Figure size 432x288 with 1 Axes>"
      ]
     },
     "metadata": {
      "needs_background": "light"
     },
     "output_type": "display_data"
    }
   ],
   "source": [
    "# Plot the train data and validation accuracy.\n",
    "plt.clf()\n",
    "acc_values = history_dict['acc']\n",
    "val_acc_values = history_dict['val_acc']\n",
    "\n",
    "plt.plot(epochs, acc_values, 'bo', label= 'Training Accuracy')\n",
    "plt.plot(epochs, val_acc_values, 'b', label = \"Validation Accuracy\")\n",
    "plt.title('Training and Validation Accuracy')\n",
    "plt.xlabel('Epochs')\n",
    "plt.ylabel('Loss')\n",
    "plt.legend()\n",
    "\n",
    "plt.show()\n"
   ]
  },
  {
   "cell_type": "code",
   "execution_count": 35,
   "id": "3b491321",
   "metadata": {},
   "outputs": [
    {
     "name": "stdout",
     "output_type": "stream",
     "text": [
      "313/313 [==============================] - 1s 4ms/step\n"
     ]
    },
    {
     "data": {
      "text/plain": [
       "<Figure size 432x288 with 0 Axes>"
      ]
     },
     "metadata": {},
     "output_type": "display_data"
    }
   ],
   "source": [
    "# Save the results\n",
    "import os\n",
    "import numpy as np\n",
    "\n",
    "# Use the model to make predictions\n",
    "predictions = model.predict(test_images)\n",
    "predicted_labels = np.argmax(predictions, axis=1)\n",
    "\n",
    "# Save the model to the results folder\n",
    "model.save('results/model-6-1.h5')\n",
    "plt.savefig('results/validation-6-1.png')\n",
    "np.savetxt('results/predictions-6-1.txt', predicted_labels, fmt='%d')\n",
    "np.savetxt('results/metrics-6-1.txt', np.column_stack((loss_values, acc_values, val_loss_values, val_acc_values)), fmt='%f')"
   ]
  },
  {
   "cell_type": "markdown",
   "id": "f069889f",
   "metadata": {},
   "source": [
    "## 6.2.a"
   ]
  },
  {
   "cell_type": "code",
   "execution_count": 37,
   "id": "5d8a609a",
   "metadata": {},
   "outputs": [
    {
     "name": "stdout",
     "output_type": "stream",
     "text": [
      "Downloading data from https://www.cs.toronto.edu/~kriz/cifar-10-python.tar.gz\n",
      "170498071/170498071 [==============================] - 24s 0us/step\n",
      "True\n",
      "True\n",
      "True\n",
      "True\n"
     ]
    }
   ],
   "source": [
    "from keras.datasets import cifar10\n",
    "from keras.preprocessing.image import ImageDataGenerator\n",
    "\n",
    "(x_train, y_train), (x_test, y_test) = cifar10.load_data()\n",
    "\n",
    "print(x_train.shape == (50000, 32, 32, 3))\n",
    "print(x_test.shape == (10000, 32, 32, 3))\n",
    "print(y_train.shape == (50000, 1))\n",
    "print(y_test.shape == (10000, 1))\n",
    "\n",
    "# Update y values to categorical.\n",
    "num_classes = 10\n",
    "y_train = to_categorical(y_train, num_classes)\n",
    "y_test = to_categorical(y_test, num_classes)\n",
    "\n",
    "x_train = x_train / 255\n",
    "x_test = x_test / 255"
   ]
  },
  {
   "cell_type": "code",
   "execution_count": 38,
   "id": "ac9c0494",
   "metadata": {},
   "outputs": [],
   "source": [
    "# Set up the model\n",
    "model = models.Sequential()\n",
    "\n",
    "model.add(layers.Conv2D(32, (3, 3), activation='relu', kernel_initializer='he_uniform', padding='same', input_shape=(32, 32, 3)))\n",
    "model.add(layers.Conv2D(32, (3, 3), activation='relu', kernel_initializer='he_uniform', padding='same'))\n",
    "model.add(layers.MaxPooling2D((2, 2)))\n",
    "model.add(layers.Conv2D(64, (3, 3), activation='relu', kernel_initializer='he_uniform', padding='same'))\n",
    "model.add(layers.Conv2D(64, (3, 3), activation='relu', kernel_initializer='he_uniform', padding='same'))\n",
    "model.add(layers.MaxPooling2D((2, 2)))\n",
    "model.add(layers.Conv2D(128, (3, 3), activation='relu', kernel_initializer='he_uniform', padding='same'))\n",
    "model.add(layers.Conv2D(128, (3, 3), activation='relu', kernel_initializer='he_uniform', padding='same'))\n",
    "model.add(layers.MaxPooling2D((2, 2)))\n",
    "model.add(layers.Flatten())\n",
    "model.add(layers.Dense(128, activation='relu', kernel_initializer='he_uniform'))\n",
    "model.add(layers.Dense(10, activation='softmax'))"
   ]
  },
  {
   "cell_type": "code",
   "execution_count": 39,
   "id": "233bb3dd",
   "metadata": {},
   "outputs": [
    {
     "name": "stdout",
     "output_type": "stream",
     "text": [
      "Model: \"sequential_4\"\n",
      "_________________________________________________________________\n",
      " Layer (type)                Output Shape              Param #   \n",
      "=================================================================\n",
      " conv2d_12 (Conv2D)          (None, 32, 32, 32)        896       \n",
      "                                                                 \n",
      " conv2d_13 (Conv2D)          (None, 32, 32, 32)        9248      \n",
      "                                                                 \n",
      " max_pooling2d_8 (MaxPooling  (None, 16, 16, 32)       0         \n",
      " 2D)                                                             \n",
      "                                                                 \n",
      " conv2d_14 (Conv2D)          (None, 16, 16, 64)        18496     \n",
      "                                                                 \n",
      " conv2d_15 (Conv2D)          (None, 16, 16, 64)        36928     \n",
      "                                                                 \n",
      " max_pooling2d_9 (MaxPooling  (None, 8, 8, 64)         0         \n",
      " 2D)                                                             \n",
      "                                                                 \n",
      " conv2d_16 (Conv2D)          (None, 8, 8, 128)         73856     \n",
      "                                                                 \n",
      " conv2d_17 (Conv2D)          (None, 8, 8, 128)         147584    \n",
      "                                                                 \n",
      " max_pooling2d_10 (MaxPoolin  (None, 4, 4, 128)        0         \n",
      " g2D)                                                            \n",
      "                                                                 \n",
      " flatten_4 (Flatten)         (None, 2048)              0         \n",
      "                                                                 \n",
      " dense_8 (Dense)             (None, 128)               262272    \n",
      "                                                                 \n",
      " dense_9 (Dense)             (None, 10)                1290      \n",
      "                                                                 \n",
      "=================================================================\n",
      "Total params: 550,570\n",
      "Trainable params: 550,570\n",
      "Non-trainable params: 0\n",
      "_________________________________________________________________\n"
     ]
    }
   ],
   "source": [
    "model.summary()"
   ]
  },
  {
   "cell_type": "code",
   "execution_count": 40,
   "id": "fe1c4290",
   "metadata": {},
   "outputs": [],
   "source": [
    "# Compile the model.\n",
    "model.compile(loss='categorical_crossentropy', optimizer=optimizers.RMSprop(learning_rate=0.001), metrics=['acc'])"
   ]
  },
  {
   "cell_type": "code",
   "execution_count": 41,
   "id": "bec1599e",
   "metadata": {},
   "outputs": [],
   "source": [
    "train_datagen = ImageDataGenerator()\n",
    "test_datagen = ImageDataGenerator()\n",
    "\n",
    "train_datagen.fit(x_train)\n",
    "test_datagen.fit(x_test)\n",
    "\n",
    "train_generator = train_datagen.flow(x_train, y_train, batch_size=64)\n",
    "\n",
    "validation_generator = test_datagen.flow(x_test, y_test, batch_size=64)"
   ]
  },
  {
   "cell_type": "code",
   "execution_count": 42,
   "id": "85ad993d",
   "metadata": {
    "scrolled": true
   },
   "outputs": [
    {
     "name": "stdout",
     "output_type": "stream",
     "text": [
      "Epoch 1/120\n",
      "64/64 [==============================] - 11s 154ms/step - loss: 2.2837 - acc: 0.1895 - val_loss: 1.9515 - val_acc: 0.3257\n",
      "Epoch 2/120\n",
      "64/64 [==============================] - 10s 153ms/step - loss: 1.8973 - acc: 0.3306 - val_loss: 1.8593 - val_acc: 0.3015\n",
      "Epoch 3/120\n",
      "64/64 [==============================] - 10s 150ms/step - loss: 1.6945 - acc: 0.3777 - val_loss: 1.6732 - val_acc: 0.3889\n",
      "Epoch 4/120\n",
      "64/64 [==============================] - 10s 149ms/step - loss: 1.5987 - acc: 0.4109 - val_loss: 2.1765 - val_acc: 0.3167\n",
      "Epoch 5/120\n",
      "64/64 [==============================] - 10s 156ms/step - loss: 1.5276 - acc: 0.4546 - val_loss: 1.4524 - val_acc: 0.4719\n",
      "Epoch 6/120\n",
      "64/64 [==============================] - 10s 151ms/step - loss: 1.4368 - acc: 0.4758 - val_loss: 1.4061 - val_acc: 0.5034\n",
      "Epoch 7/120\n",
      "64/64 [==============================] - 10s 152ms/step - loss: 1.3680 - acc: 0.5127 - val_loss: 1.3567 - val_acc: 0.5269\n",
      "Epoch 8/120\n",
      "64/64 [==============================] - 10s 153ms/step - loss: 1.3020 - acc: 0.5349 - val_loss: 1.2888 - val_acc: 0.5503\n",
      "Epoch 9/120\n",
      "64/64 [==============================] - 10s 155ms/step - loss: 1.2520 - acc: 0.5583 - val_loss: 1.2380 - val_acc: 0.5598\n",
      "Epoch 10/120\n",
      "64/64 [==============================] - 10s 154ms/step - loss: 1.1982 - acc: 0.5813 - val_loss: 1.2168 - val_acc: 0.5698\n",
      "Epoch 11/120\n",
      "64/64 [==============================] - 10s 149ms/step - loss: 1.1308 - acc: 0.6089 - val_loss: 1.0942 - val_acc: 0.6133\n",
      "Epoch 12/120\n",
      "64/64 [==============================] - 10s 150ms/step - loss: 1.1109 - acc: 0.6082 - val_loss: 1.1188 - val_acc: 0.6084\n",
      "Epoch 13/120\n",
      "64/64 [==============================] - 10s 154ms/step - loss: 1.0409 - acc: 0.6379 - val_loss: 1.1353 - val_acc: 0.6128\n",
      "Epoch 14/120\n",
      "64/64 [==============================] - 10s 151ms/step - loss: 1.0248 - acc: 0.6475 - val_loss: 1.0926 - val_acc: 0.6116\n",
      "Epoch 15/120\n",
      "64/64 [==============================] - 10s 151ms/step - loss: 1.0090 - acc: 0.6350 - val_loss: 1.0168 - val_acc: 0.6484\n",
      "Epoch 16/120\n",
      "64/64 [==============================] - 9s 149ms/step - loss: 0.9364 - acc: 0.6699 - val_loss: 1.0175 - val_acc: 0.6418\n",
      "Epoch 17/120\n",
      "64/64 [==============================] - 9s 150ms/step - loss: 0.9459 - acc: 0.6658 - val_loss: 0.9917 - val_acc: 0.6487\n",
      "Epoch 18/120\n",
      "64/64 [==============================] - 10s 156ms/step - loss: 0.8975 - acc: 0.6848 - val_loss: 0.9368 - val_acc: 0.6653\n",
      "Epoch 19/120\n",
      "64/64 [==============================] - 10s 158ms/step - loss: 0.8754 - acc: 0.6910 - val_loss: 1.0231 - val_acc: 0.6335\n",
      "Epoch 20/120\n",
      "64/64 [==============================] - 10s 153ms/step - loss: 0.8601 - acc: 0.7031 - val_loss: 0.9920 - val_acc: 0.6631\n",
      "Epoch 21/120\n",
      "64/64 [==============================] - 10s 152ms/step - loss: 0.8494 - acc: 0.7104 - val_loss: 0.8980 - val_acc: 0.6792\n",
      "Epoch 22/120\n",
      "64/64 [==============================] - 10s 161ms/step - loss: 0.8061 - acc: 0.7214 - val_loss: 0.9026 - val_acc: 0.6843\n",
      "Epoch 23/120\n",
      "64/64 [==============================] - 10s 156ms/step - loss: 0.7801 - acc: 0.7195 - val_loss: 0.8985 - val_acc: 0.7036\n",
      "Epoch 24/120\n",
      "64/64 [==============================] - 10s 149ms/step - loss: 0.7679 - acc: 0.7375 - val_loss: 0.8631 - val_acc: 0.7048\n",
      "Epoch 25/120\n",
      "64/64 [==============================] - 10s 163ms/step - loss: 0.7833 - acc: 0.7327 - val_loss: 0.8943 - val_acc: 0.6882\n",
      "Epoch 26/120\n",
      "64/64 [==============================] - 10s 156ms/step - loss: 0.7621 - acc: 0.7380 - val_loss: 0.8385 - val_acc: 0.7122\n",
      "Epoch 27/120\n",
      "64/64 [==============================] - 10s 156ms/step - loss: 0.7246 - acc: 0.7466 - val_loss: 1.2042 - val_acc: 0.6296\n",
      "Epoch 28/120\n",
      "64/64 [==============================] - 10s 157ms/step - loss: 0.6895 - acc: 0.7676 - val_loss: 0.8292 - val_acc: 0.7166\n",
      "Epoch 29/120\n",
      "64/64 [==============================] - 10s 154ms/step - loss: 0.6838 - acc: 0.7578 - val_loss: 0.9671 - val_acc: 0.6895\n",
      "Epoch 30/120\n",
      "64/64 [==============================] - 10s 153ms/step - loss: 0.6572 - acc: 0.7747 - val_loss: 0.8252 - val_acc: 0.7192\n",
      "Epoch 31/120\n",
      "64/64 [==============================] - 10s 158ms/step - loss: 0.6456 - acc: 0.7803 - val_loss: 0.8263 - val_acc: 0.7231\n",
      "Epoch 32/120\n",
      "64/64 [==============================] - 10s 156ms/step - loss: 0.6524 - acc: 0.7771 - val_loss: 0.8505 - val_acc: 0.7109\n",
      "Epoch 33/120\n",
      "64/64 [==============================] - 10s 154ms/step - loss: 0.6433 - acc: 0.7829 - val_loss: 0.7530 - val_acc: 0.7427\n",
      "Epoch 34/120\n",
      "64/64 [==============================] - 10s 154ms/step - loss: 0.6314 - acc: 0.7793 - val_loss: 0.7854 - val_acc: 0.7283\n",
      "Epoch 35/120\n",
      "64/64 [==============================] - 10s 158ms/step - loss: 0.6182 - acc: 0.7908 - val_loss: 0.8039 - val_acc: 0.7231\n",
      "Epoch 36/120\n",
      "64/64 [==============================] - 10s 151ms/step - loss: 0.6186 - acc: 0.7903 - val_loss: 0.8091 - val_acc: 0.7314\n",
      "Epoch 37/120\n",
      "64/64 [==============================] - 10s 158ms/step - loss: 0.5950 - acc: 0.7905 - val_loss: 0.7812 - val_acc: 0.7373\n",
      "Epoch 38/120\n",
      "64/64 [==============================] - 10s 159ms/step - loss: 0.5514 - acc: 0.8062 - val_loss: 0.7647 - val_acc: 0.7429\n",
      "Epoch 39/120\n",
      "64/64 [==============================] - 10s 158ms/step - loss: 0.5610 - acc: 0.8105 - val_loss: 0.8395 - val_acc: 0.7200\n",
      "Epoch 40/120\n",
      "64/64 [==============================] - 10s 156ms/step - loss: 0.5751 - acc: 0.8069 - val_loss: 0.7671 - val_acc: 0.7332\n",
      "Epoch 41/120\n",
      "64/64 [==============================] - 10s 155ms/step - loss: 0.5608 - acc: 0.8120 - val_loss: 0.7766 - val_acc: 0.7351\n",
      "Epoch 42/120\n",
      "64/64 [==============================] - 10s 150ms/step - loss: 0.5325 - acc: 0.8252 - val_loss: 0.7740 - val_acc: 0.7422\n",
      "Epoch 43/120\n",
      "64/64 [==============================] - 10s 157ms/step - loss: 0.5441 - acc: 0.8164 - val_loss: 0.7639 - val_acc: 0.7354\n",
      "Epoch 44/120\n",
      "64/64 [==============================] - 10s 163ms/step - loss: 0.5151 - acc: 0.8264 - val_loss: 0.8101 - val_acc: 0.7390\n",
      "Epoch 45/120\n",
      "64/64 [==============================] - 10s 155ms/step - loss: 0.5061 - acc: 0.8286 - val_loss: 0.8462 - val_acc: 0.7383\n",
      "Epoch 46/120\n",
      "64/64 [==============================] - 10s 157ms/step - loss: 0.5091 - acc: 0.8267 - val_loss: 0.8277 - val_acc: 0.7388\n",
      "Epoch 47/120\n",
      "64/64 [==============================] - 10s 155ms/step - loss: 0.4940 - acc: 0.8330 - val_loss: 0.7510 - val_acc: 0.7598\n",
      "Epoch 48/120\n",
      "64/64 [==============================] - 10s 163ms/step - loss: 0.4944 - acc: 0.8328 - val_loss: 0.7719 - val_acc: 0.7490\n",
      "Epoch 49/120\n",
      "64/64 [==============================] - 10s 162ms/step - loss: 0.4744 - acc: 0.8391 - val_loss: 0.7593 - val_acc: 0.7539\n",
      "Epoch 50/120\n",
      "64/64 [==============================] - 10s 155ms/step - loss: 0.4624 - acc: 0.8406 - val_loss: 0.7569 - val_acc: 0.7529\n",
      "Epoch 51/120\n",
      "64/64 [==============================] - 10s 156ms/step - loss: 0.4634 - acc: 0.8433 - val_loss: 0.7709 - val_acc: 0.7571\n",
      "Epoch 52/120\n",
      "64/64 [==============================] - 10s 163ms/step - loss: 0.4507 - acc: 0.8506 - val_loss: 0.8849 - val_acc: 0.7317\n",
      "Epoch 53/120\n",
      "64/64 [==============================] - 10s 160ms/step - loss: 0.4782 - acc: 0.8328 - val_loss: 0.7487 - val_acc: 0.7634\n",
      "Epoch 54/120\n",
      "64/64 [==============================] - 10s 160ms/step - loss: 0.4332 - acc: 0.8538 - val_loss: 0.8197 - val_acc: 0.7441\n",
      "Epoch 55/120\n",
      "64/64 [==============================] - 11s 167ms/step - loss: 0.4354 - acc: 0.8555 - val_loss: 0.7916 - val_acc: 0.7437\n",
      "Epoch 56/120\n",
      "64/64 [==============================] - 10s 156ms/step - loss: 0.4205 - acc: 0.8564 - val_loss: 0.8167 - val_acc: 0.7468\n",
      "Epoch 57/120\n",
      "64/64 [==============================] - 10s 158ms/step - loss: 0.3990 - acc: 0.8638 - val_loss: 0.9146 - val_acc: 0.7312\n",
      "Epoch 58/120\n",
      "64/64 [==============================] - 10s 161ms/step - loss: 0.4155 - acc: 0.8628 - val_loss: 0.8283 - val_acc: 0.7361\n",
      "Epoch 59/120\n",
      "64/64 [==============================] - 10s 157ms/step - loss: 0.3889 - acc: 0.8687 - val_loss: 0.7530 - val_acc: 0.7766\n",
      "Epoch 60/120\n",
      "64/64 [==============================] - 10s 159ms/step - loss: 0.3714 - acc: 0.8762 - val_loss: 0.8598 - val_acc: 0.7368\n",
      "Epoch 61/120\n",
      "64/64 [==============================] - 10s 163ms/step - loss: 0.4081 - acc: 0.8655 - val_loss: 0.8168 - val_acc: 0.7546\n"
     ]
    },
    {
     "name": "stdout",
     "output_type": "stream",
     "text": [
      "Epoch 62/120\n",
      "64/64 [==============================] - 10s 154ms/step - loss: 0.4066 - acc: 0.8662 - val_loss: 0.8689 - val_acc: 0.7378\n",
      "Epoch 63/120\n",
      "64/64 [==============================] - 10s 157ms/step - loss: 0.3699 - acc: 0.8730 - val_loss: 0.8052 - val_acc: 0.7739\n",
      "Epoch 64/120\n",
      "64/64 [==============================] - 10s 156ms/step - loss: 0.3867 - acc: 0.8738 - val_loss: 0.9079 - val_acc: 0.7590\n",
      "Epoch 65/120\n",
      "64/64 [==============================] - 10s 155ms/step - loss: 0.3718 - acc: 0.8760 - val_loss: 0.7583 - val_acc: 0.7695\n",
      "Epoch 66/120\n",
      "64/64 [==============================] - 10s 162ms/step - loss: 0.3929 - acc: 0.8689 - val_loss: 0.8614 - val_acc: 0.7502\n",
      "Epoch 67/120\n",
      "64/64 [==============================] - 10s 160ms/step - loss: 0.3528 - acc: 0.8809 - val_loss: 0.8858 - val_acc: 0.7527\n",
      "Epoch 68/120\n",
      "64/64 [==============================] - 10s 158ms/step - loss: 0.3462 - acc: 0.8821 - val_loss: 0.7771 - val_acc: 0.7656\n",
      "Epoch 69/120\n",
      "64/64 [==============================] - 11s 166ms/step - loss: 0.3370 - acc: 0.8806 - val_loss: 0.9363 - val_acc: 0.7600\n",
      "Epoch 70/120\n",
      "64/64 [==============================] - 10s 154ms/step - loss: 0.3575 - acc: 0.8850 - val_loss: 0.8636 - val_acc: 0.7620\n",
      "Epoch 71/120\n",
      "64/64 [==============================] - 10s 160ms/step - loss: 0.3295 - acc: 0.8948 - val_loss: 0.8711 - val_acc: 0.7607\n",
      "Epoch 72/120\n",
      "64/64 [==============================] - 10s 164ms/step - loss: 0.3508 - acc: 0.8855 - val_loss: 0.7938 - val_acc: 0.7583\n",
      "Epoch 73/120\n",
      "64/64 [==============================] - 10s 162ms/step - loss: 0.3600 - acc: 0.8757 - val_loss: 0.8092 - val_acc: 0.7698\n",
      "Epoch 74/120\n",
      "64/64 [==============================] - 10s 160ms/step - loss: 0.3419 - acc: 0.8818 - val_loss: 0.8552 - val_acc: 0.7583\n",
      "Epoch 75/120\n",
      "64/64 [==============================] - 10s 159ms/step - loss: 0.3350 - acc: 0.8867 - val_loss: 0.9377 - val_acc: 0.7422\n",
      "Epoch 76/120\n",
      "64/64 [==============================] - 10s 157ms/step - loss: 0.3168 - acc: 0.8923 - val_loss: 0.9443 - val_acc: 0.7585\n",
      "Epoch 77/120\n",
      "64/64 [==============================] - 10s 160ms/step - loss: 0.3301 - acc: 0.8967 - val_loss: 0.8843 - val_acc: 0.7625\n",
      "Epoch 78/120\n",
      "64/64 [==============================] - 10s 155ms/step - loss: 0.3028 - acc: 0.9004 - val_loss: 0.8726 - val_acc: 0.7620\n",
      "Epoch 79/120\n",
      "64/64 [==============================] - 10s 159ms/step - loss: 0.3299 - acc: 0.8960 - val_loss: 0.7875 - val_acc: 0.7666\n",
      "Epoch 80/120\n",
      "64/64 [==============================] - 10s 160ms/step - loss: 0.3059 - acc: 0.9011 - val_loss: 0.8610 - val_acc: 0.7666\n",
      "Epoch 81/120\n",
      "64/64 [==============================] - 10s 156ms/step - loss: 0.3053 - acc: 0.9014 - val_loss: 0.8430 - val_acc: 0.7607\n",
      "Epoch 82/120\n",
      "64/64 [==============================] - 10s 158ms/step - loss: 0.3092 - acc: 0.8972 - val_loss: 0.8416 - val_acc: 0.7505\n",
      "Epoch 83/120\n",
      "64/64 [==============================] - 10s 157ms/step - loss: 0.3159 - acc: 0.8928 - val_loss: 0.8408 - val_acc: 0.7703\n",
      "Epoch 84/120\n",
      "64/64 [==============================] - 10s 156ms/step - loss: 0.2961 - acc: 0.9043 - val_loss: 0.8574 - val_acc: 0.7639\n",
      "Epoch 85/120\n",
      "64/64 [==============================] - 10s 161ms/step - loss: 0.3052 - acc: 0.9038 - val_loss: 0.8362 - val_acc: 0.7715\n",
      "Epoch 86/120\n",
      "64/64 [==============================] - 10s 156ms/step - loss: 0.2907 - acc: 0.9058 - val_loss: 0.8960 - val_acc: 0.7590\n",
      "Epoch 87/120\n",
      "64/64 [==============================] - 10s 157ms/step - loss: 0.3054 - acc: 0.8972 - val_loss: 0.9416 - val_acc: 0.7549\n",
      "Epoch 88/120\n",
      "64/64 [==============================] - 10s 159ms/step - loss: 0.2978 - acc: 0.8999 - val_loss: 0.8958 - val_acc: 0.7717\n",
      "Epoch 89/120\n",
      "64/64 [==============================] - 10s 158ms/step - loss: 0.2980 - acc: 0.8992 - val_loss: 0.9326 - val_acc: 0.7515\n",
      "Epoch 90/120\n",
      "64/64 [==============================] - 10s 164ms/step - loss: 0.2945 - acc: 0.9031 - val_loss: 0.9165 - val_acc: 0.7688\n",
      "Epoch 91/120\n",
      "64/64 [==============================] - 10s 162ms/step - loss: 0.2853 - acc: 0.9059 - val_loss: 0.8531 - val_acc: 0.7715\n",
      "Epoch 92/120\n",
      "64/64 [==============================] - 10s 158ms/step - loss: 0.2878 - acc: 0.9048 - val_loss: 1.0040 - val_acc: 0.7629\n",
      "Epoch 93/120\n",
      "64/64 [==============================] - 10s 158ms/step - loss: 0.2744 - acc: 0.9099 - val_loss: 0.9948 - val_acc: 0.7612\n",
      "Epoch 94/120\n",
      "64/64 [==============================] - 10s 151ms/step - loss: 0.2796 - acc: 0.9104 - val_loss: 0.9586 - val_acc: 0.7646\n",
      "Epoch 95/120\n",
      "64/64 [==============================] - 9s 148ms/step - loss: 0.2763 - acc: 0.9106 - val_loss: 1.0135 - val_acc: 0.7659\n",
      "Epoch 96/120\n",
      "64/64 [==============================] - 10s 151ms/step - loss: 0.2768 - acc: 0.9106 - val_loss: 0.8484 - val_acc: 0.7666\n",
      "Epoch 97/120\n",
      "64/64 [==============================] - 10s 157ms/step - loss: 0.2649 - acc: 0.9131 - val_loss: 1.1568 - val_acc: 0.7371\n",
      "Epoch 98/120\n",
      "64/64 [==============================] - 10s 155ms/step - loss: 0.2826 - acc: 0.9092 - val_loss: 0.9502 - val_acc: 0.7639\n",
      "Epoch 99/120\n",
      "64/64 [==============================] - 10s 152ms/step - loss: 0.2598 - acc: 0.9124 - val_loss: 0.9511 - val_acc: 0.7500\n",
      "Epoch 100/120\n",
      "64/64 [==============================] - 11s 167ms/step - loss: 0.2888 - acc: 0.9087 - val_loss: 0.9767 - val_acc: 0.7766\n",
      "Epoch 101/120\n",
      "64/64 [==============================] - 11s 169ms/step - loss: 0.2657 - acc: 0.9158 - val_loss: 0.9581 - val_acc: 0.7769\n",
      "Epoch 102/120\n",
      "64/64 [==============================] - 10s 157ms/step - loss: 0.2639 - acc: 0.9153 - val_loss: 1.0056 - val_acc: 0.7651\n",
      "Epoch 103/120\n",
      "64/64 [==============================] - 10s 155ms/step - loss: 0.2489 - acc: 0.9126 - val_loss: 1.0832 - val_acc: 0.7632\n",
      "Epoch 104/120\n",
      "64/64 [==============================] - 10s 155ms/step - loss: 0.2660 - acc: 0.9185 - val_loss: 0.9866 - val_acc: 0.7632\n",
      "Epoch 105/120\n",
      "64/64 [==============================] - 10s 153ms/step - loss: 0.2427 - acc: 0.9170 - val_loss: 1.0767 - val_acc: 0.7686\n",
      "Epoch 106/120\n",
      "64/64 [==============================] - 10s 154ms/step - loss: 0.2288 - acc: 0.9236 - val_loss: 1.0658 - val_acc: 0.7698\n",
      "Epoch 107/120\n",
      "64/64 [==============================] - 10s 157ms/step - loss: 0.2632 - acc: 0.9165 - val_loss: 0.9711 - val_acc: 0.7708\n",
      "Epoch 108/120\n",
      "64/64 [==============================] - 11s 167ms/step - loss: 0.2534 - acc: 0.9150 - val_loss: 1.0187 - val_acc: 0.7739\n",
      "Epoch 109/120\n",
      "64/64 [==============================] - 11s 164ms/step - loss: 0.2475 - acc: 0.9177 - val_loss: 0.9365 - val_acc: 0.7720\n",
      "Epoch 110/120\n",
      "64/64 [==============================] - 10s 158ms/step - loss: 0.2487 - acc: 0.9229 - val_loss: 0.9160 - val_acc: 0.7600\n",
      "Epoch 111/120\n",
      "64/64 [==============================] - 11s 168ms/step - loss: 0.2352 - acc: 0.9197 - val_loss: 0.9809 - val_acc: 0.7622\n",
      "Epoch 112/120\n",
      "64/64 [==============================] - 10s 157ms/step - loss: 0.2838 - acc: 0.9075 - val_loss: 0.8533 - val_acc: 0.7649\n",
      "Epoch 113/120\n",
      "64/64 [==============================] - 10s 152ms/step - loss: 0.2439 - acc: 0.9216 - val_loss: 1.1290 - val_acc: 0.7634\n",
      "Epoch 114/120\n",
      "64/64 [==============================] - 10s 159ms/step - loss: 0.2296 - acc: 0.9258 - val_loss: 1.1578 - val_acc: 0.7432\n",
      "Epoch 115/120\n",
      "64/64 [==============================] - 10s 161ms/step - loss: 0.2505 - acc: 0.9270 - val_loss: 1.2551 - val_acc: 0.7515\n",
      "Epoch 116/120\n",
      "64/64 [==============================] - 10s 153ms/step - loss: 0.2622 - acc: 0.9175 - val_loss: 1.0616 - val_acc: 0.7793\n",
      "Epoch 117/120\n",
      "64/64 [==============================] - 10s 160ms/step - loss: 0.2575 - acc: 0.9131 - val_loss: 0.9726 - val_acc: 0.7756\n",
      "Epoch 118/120\n",
      "64/64 [==============================] - 10s 162ms/step - loss: 0.2656 - acc: 0.9170 - val_loss: 0.9519 - val_acc: 0.7659\n",
      "Epoch 119/120\n",
      "64/64 [==============================] - 10s 156ms/step - loss: 0.2246 - acc: 0.9238 - val_loss: 0.9725 - val_acc: 0.7563\n",
      "Epoch 120/120\n",
      "64/64 [==============================] - 11s 172ms/step - loss: 0.2456 - acc: 0.9246 - val_loss: 1.0291 - val_acc: 0.7593\n"
     ]
    }
   ],
   "source": [
    "history = model.fit(train_generator, steps_per_epoch=64, epochs=120, validation_data=(validation_generator), validation_steps=64)"
   ]
  },
  {
   "cell_type": "code",
   "execution_count": 43,
   "id": "d41e157d",
   "metadata": {},
   "outputs": [
    {
     "data": {
      "image/png": "[encoded data removed]",
      "text/plain": [
       "<Figure size 432x288 with 1 Axes>"
      ]
     },
     "metadata": {
      "needs_background": "light"
     },
     "output_type": "display_data"
    },
    {
     "data": {
      "image/png": "[encoded data removed]",
      "text/plain": [
       "<Figure size 432x288 with 1 Axes>"
      ]
     },
     "metadata": {
      "needs_background": "light"
     },
     "output_type": "display_data"
    }
   ],
   "source": [
    "# Display the curves of lass and accuracy during training\n",
    "\n",
    "acc = history.history['acc']\n",
    "val_acc = history.history['val_acc']\n",
    "loss = history.history['loss']\n",
    "val_loss = history.history['val_loss']\n",
    "\n",
    "epochs = range(len(acc))\n",
    "\n",
    "plt.plot(epochs, acc, 'bo', label='Training acc')\n",
    "plt.plot(epochs, val_acc, 'b', label='Validation acc')\n",
    "plt.title('Training and validation accuracy')\n",
    "plt.legend()\n",
    "\n",
    "plt.figure()\n",
    "\n",
    "plt.plot(epochs, loss, 'bo', label='Training loss')\n",
    "plt.plot(epochs, val_loss, 'b', label='Validation loss')\n",
    "plt.title('Training and validation loss')\n",
    "plt.legend()\n",
    "\n",
    "plt.show()"
   ]
  },
  {
   "cell_type": "code",
   "execution_count": 44,
   "id": "1ee5f449",
   "metadata": {},
   "outputs": [
    {
     "name": "stdout",
     "output_type": "stream",
     "text": [
      "313/313 [==============================] - 6s 20ms/step\n"
     ]
    },
    {
     "data": {
      "text/plain": [
       "<Figure size 432x288 with 0 Axes>"
      ]
     },
     "metadata": {},
     "output_type": "display_data"
    }
   ],
   "source": [
    "# Use the model to make predictions\n",
    "predictions = model.predict(x_test)\n",
    "predicted_labels = np.argmax(predictions, axis=1)\n",
    "\n",
    "# Save the model to the results folder\n",
    "model.save('results/model-6-2-a.h5')\n",
    "plt.savefig('results/validation-6-2-a.png')\n",
    "np.savetxt('results/predictions-6-2-a.txt', predicted_labels, fmt='%d')\n",
    "np.savetxt('results/metrics-6-2-a.txt', np.column_stack((loss_values, acc_values, val_loss_values, val_acc_values)), fmt='%f')"
   ]
  },
  {
   "cell_type": "markdown",
   "id": "a99b7dfc",
   "metadata": {},
   "source": [
    "## 6.2.b"
   ]
  },
  {
   "cell_type": "code",
   "execution_count": 45,
   "id": "a0f06863",
   "metadata": {},
   "outputs": [
    {
     "name": "stdout",
     "output_type": "stream",
     "text": [
      "True\n",
      "True\n",
      "True\n",
      "True\n"
     ]
    }
   ],
   "source": [
    "(x_train, y_train), (x_test, y_test) = cifar10.load_data()\n",
    "\n",
    "print(x_train.shape == (50000, 32, 32, 3))\n",
    "print(x_test.shape == (10000, 32, 32, 3))\n",
    "print(y_train.shape == (50000, 1))\n",
    "print(y_test.shape == (10000, 1))\n",
    "\n",
    "# Update y values to categorical.\n",
    "num_classes = 10\n",
    "y_train = to_categorical(y_train, num_classes)\n",
    "y_test = to_categorical(y_test, num_classes)\n",
    "\n",
    "x_train = x_train / 255\n",
    "x_test = x_test / 255"
   ]
  },
  {
   "cell_type": "code",
   "execution_count": 46,
   "id": "cb2e26e5",
   "metadata": {},
   "outputs": [],
   "source": [
    "# Set up the model\n",
    "model = models.Sequential()\n",
    "\n",
    "model.add(layers.Conv2D(32, (3, 3), activation='relu', kernel_initializer='he_uniform', padding='same', input_shape=(32, 32, 3)))\n",
    "model.add(layers.BatchNormalization())\n",
    "model.add(layers.Conv2D(32, (3, 3), activation='relu', kernel_initializer='he_uniform', padding='same'))\n",
    "model.add(layers.MaxPooling2D((2, 2)))\n",
    "model.add(layers.Dropout(0.2))\n",
    "model.add(layers.Conv2D(64, (3, 3), activation='relu', kernel_initializer='he_uniform', padding='same'))\n",
    "model.add(layers.BatchNormalization())\n",
    "model.add(layers.Conv2D(64, (3, 3), activation='relu', kernel_initializer='he_uniform', padding='same'))\n",
    "model.add(layers.MaxPooling2D((2, 2)))\n",
    "model.add(layers.Dropout(0.3))\n",
    "model.add(layers.Conv2D(128, (3, 3), activation='relu', kernel_initializer='he_uniform', padding='same'))\n",
    "model.add(layers.BatchNormalization())\n",
    "model.add(layers.Conv2D(128, (3, 3), activation='relu', kernel_initializer='he_uniform', padding='same'))\n",
    "model.add(layers.MaxPooling2D((2, 2)))\n",
    "model.add(layers.Dropout(0.4))\n",
    "model.add(layers.Flatten())\n",
    "model.add(layers.Dense(128, activation='relu', kernel_initializer='he_uniform'))\n",
    "model.add(layers.Dropout(0.5))\n",
    "model.add(layers.Dense(10, activation='softmax'))"
   ]
  },
  {
   "cell_type": "code",
   "execution_count": 47,
   "id": "bf3bba88",
   "metadata": {},
   "outputs": [
    {
     "name": "stdout",
     "output_type": "stream",
     "text": [
      "Model: \"sequential_5\"\n",
      "_________________________________________________________________\n",
      " Layer (type)                Output Shape              Param #   \n",
      "=================================================================\n",
      " conv2d_18 (Conv2D)          (None, 32, 32, 32)        896       \n",
      "                                                                 \n",
      " batch_normalization (BatchN  (None, 32, 32, 32)       128       \n",
      " ormalization)                                                   \n",
      "                                                                 \n",
      " conv2d_19 (Conv2D)          (None, 32, 32, 32)        9248      \n",
      "                                                                 \n",
      " max_pooling2d_11 (MaxPoolin  (None, 16, 16, 32)       0         \n",
      " g2D)                                                            \n",
      "                                                                 \n",
      " dropout (Dropout)           (None, 16, 16, 32)        0         \n",
      "                                                                 \n",
      " conv2d_20 (Conv2D)          (None, 16, 16, 64)        18496     \n",
      "                                                                 \n",
      " batch_normalization_1 (Batc  (None, 16, 16, 64)       256       \n",
      " hNormalization)                                                 \n",
      "                                                                 \n",
      " conv2d_21 (Conv2D)          (None, 16, 16, 64)        36928     \n",
      "                                                                 \n",
      " max_pooling2d_12 (MaxPoolin  (None, 8, 8, 64)         0         \n",
      " g2D)                                                            \n",
      "                                                                 \n",
      " dropout_1 (Dropout)         (None, 8, 8, 64)          0         \n",
      "                                                                 \n",
      " conv2d_22 (Conv2D)          (None, 8, 8, 128)         73856     \n",
      "                                                                 \n",
      " batch_normalization_2 (Batc  (None, 8, 8, 128)        512       \n",
      " hNormalization)                                                 \n",
      "                                                                 \n",
      " conv2d_23 (Conv2D)          (None, 8, 8, 128)         147584    \n",
      "                                                                 \n",
      " max_pooling2d_13 (MaxPoolin  (None, 4, 4, 128)        0         \n",
      " g2D)                                                            \n",
      "                                                                 \n",
      " dropout_2 (Dropout)         (None, 4, 4, 128)         0         \n",
      "                                                                 \n",
      " flatten_5 (Flatten)         (None, 2048)              0         \n",
      "                                                                 \n",
      " dense_10 (Dense)            (None, 128)               262272    \n",
      "                                                                 \n",
      " dropout_3 (Dropout)         (None, 128)               0         \n",
      "                                                                 \n",
      " dense_11 (Dense)            (None, 10)                1290      \n",
      "                                                                 \n",
      "=================================================================\n",
      "Total params: 551,466\n",
      "Trainable params: 551,018\n",
      "Non-trainable params: 448\n",
      "_________________________________________________________________\n"
     ]
    }
   ],
   "source": [
    "model.summary()"
   ]
  },
  {
   "cell_type": "code",
   "execution_count": 48,
   "id": "acfb1af1",
   "metadata": {},
   "outputs": [],
   "source": [
    "model.compile(loss='categorical_crossentropy', optimizer='rmsprop', metrics=['acc'])"
   ]
  },
  {
   "cell_type": "code",
   "execution_count": 49,
   "id": "7ecbc706",
   "metadata": {},
   "outputs": [],
   "source": [
    "train_datagen = ImageDataGenerator(\n",
    "            rescale=1./255,\n",
    "            rotation_range=40,\n",
    "            width_shift_range=0.2,\n",
    "            height_shift_range=0.2,\n",
    "            shear_range=0.2,\n",
    "            zoom_range=0.2,\n",
    "            horizontal_flip=True)\n",
    "\n",
    "test_datagen = ImageDataGenerator(rescale=1./255)\n",
    "\n",
    "train_datagen.fit(x_train)\n",
    "test_datagen.fit(x_test)\n",
    "\n",
    "train_generator = train_datagen.flow(x_train, y_train, batch_size=64)\n",
    "\n",
    "validation_generator = test_datagen.flow(x_test, y_test, batch_size=64)"
   ]
  },
  {
   "cell_type": "code",
   "execution_count": 50,
   "id": "fa7ee486",
   "metadata": {
    "scrolled": true
   },
   "outputs": [
    {
     "name": "stdout",
     "output_type": "stream",
     "text": [
      "Epoch 1/120\n",
      "64/64 [==============================] - 14s 197ms/step - loss: 2.6795 - acc: 0.1140 - val_loss: 2.3342 - val_acc: 0.0972\n",
      "Epoch 2/120\n",
      "64/64 [==============================] - 12s 192ms/step - loss: 2.2685 - acc: 0.1357 - val_loss: 2.3555 - val_acc: 0.1060\n",
      "Epoch 3/120\n",
      "64/64 [==============================] - 12s 191ms/step - loss: 2.2394 - acc: 0.1548 - val_loss: 2.5423 - val_acc: 0.1016\n",
      "Epoch 4/120\n",
      "64/64 [==============================] - 13s 197ms/step - loss: 2.1930 - acc: 0.1614 - val_loss: 2.7448 - val_acc: 0.0947\n",
      "Epoch 5/120\n",
      "64/64 [==============================] - 13s 199ms/step - loss: 2.2122 - acc: 0.1692 - val_loss: 3.0198 - val_acc: 0.0955\n",
      "Epoch 6/120\n",
      "64/64 [==============================] - 13s 202ms/step - loss: 2.1620 - acc: 0.1814 - val_loss: 2.9739 - val_acc: 0.0955\n",
      "Epoch 7/120\n",
      "64/64 [==============================] - 12s 195ms/step - loss: 2.1528 - acc: 0.1914 - val_loss: 2.7050 - val_acc: 0.1060\n",
      "Epoch 8/120\n",
      "64/64 [==============================] - 13s 203ms/step - loss: 2.1492 - acc: 0.1904 - val_loss: 2.6081 - val_acc: 0.1038\n",
      "Epoch 9/120\n",
      "64/64 [==============================] - 13s 194ms/step - loss: 2.1124 - acc: 0.2068 - val_loss: 3.4202 - val_acc: 0.1033\n",
      "Epoch 10/120\n",
      "64/64 [==============================] - 12s 189ms/step - loss: 2.0969 - acc: 0.1990 - val_loss: 5.6036 - val_acc: 0.0989\n",
      "Epoch 11/120\n",
      "64/64 [==============================] - 12s 185ms/step - loss: 2.0631 - acc: 0.2324 - val_loss: 2.5543 - val_acc: 0.0991\n",
      "Epoch 12/120\n",
      "64/64 [==============================] - 12s 185ms/step - loss: 2.0876 - acc: 0.2021 - val_loss: 2.1136 - val_acc: 0.1685\n",
      "Epoch 13/120\n",
      "64/64 [==============================] - 12s 190ms/step - loss: 2.0699 - acc: 0.2085 - val_loss: 4.4744 - val_acc: 0.0994\n",
      "Epoch 14/120\n",
      "64/64 [==============================] - 12s 194ms/step - loss: 2.0321 - acc: 0.2292 - val_loss: 2.6532 - val_acc: 0.1001\n",
      "Epoch 15/120\n",
      "64/64 [==============================] - 12s 184ms/step - loss: 2.0289 - acc: 0.2405 - val_loss: 3.6351 - val_acc: 0.1035\n",
      "Epoch 16/120\n",
      "64/64 [==============================] - 12s 184ms/step - loss: 2.0079 - acc: 0.2261 - val_loss: 4.6778 - val_acc: 0.0999\n",
      "Epoch 17/120\n",
      "64/64 [==============================] - 12s 185ms/step - loss: 2.0173 - acc: 0.2475 - val_loss: 2.2745 - val_acc: 0.1248\n",
      "Epoch 18/120\n",
      "64/64 [==============================] - 12s 185ms/step - loss: 1.9848 - acc: 0.2429 - val_loss: 25.6225 - val_acc: 0.1052\n",
      "Epoch 19/120\n",
      "64/64 [==============================] - 12s 188ms/step - loss: 1.9324 - acc: 0.2881 - val_loss: 22.8345 - val_acc: 0.0959\n",
      "Epoch 20/120\n",
      "64/64 [==============================] - 12s 184ms/step - loss: 1.9391 - acc: 0.2773 - val_loss: 9.2863 - val_acc: 0.1084\n",
      "Epoch 21/120\n",
      "64/64 [==============================] - 12s 187ms/step - loss: 1.9207 - acc: 0.2878 - val_loss: 21.8551 - val_acc: 0.0979\n",
      "Epoch 22/120\n",
      "64/64 [==============================] - 12s 184ms/step - loss: 1.8960 - acc: 0.3052 - val_loss: 2.2366 - val_acc: 0.1467\n",
      "Epoch 23/120\n",
      "64/64 [==============================] - 12s 185ms/step - loss: 1.8779 - acc: 0.3215 - val_loss: 2.6222 - val_acc: 0.1204\n",
      "Epoch 24/120\n",
      "64/64 [==============================] - 12s 191ms/step - loss: 1.8561 - acc: 0.3237 - val_loss: 2.6817 - val_acc: 0.1099\n",
      "Epoch 25/120\n",
      "64/64 [==============================] - 12s 180ms/step - loss: 1.8620 - acc: 0.3203 - val_loss: 18.8771 - val_acc: 0.0994\n",
      "Epoch 26/120\n",
      "64/64 [==============================] - 12s 184ms/step - loss: 1.8556 - acc: 0.3252 - val_loss: 4.3199 - val_acc: 0.1116\n",
      "Epoch 27/120\n",
      "64/64 [==============================] - 12s 181ms/step - loss: 1.8231 - acc: 0.3362 - val_loss: 6.9402 - val_acc: 0.1458\n",
      "Epoch 28/120\n",
      "64/64 [==============================] - 11s 179ms/step - loss: 1.8334 - acc: 0.3406 - val_loss: 2.6702 - val_acc: 0.1472\n",
      "Epoch 29/120\n",
      "64/64 [==============================] - 12s 183ms/step - loss: 1.7951 - acc: 0.3569 - val_loss: 5.2655 - val_acc: 0.1235\n",
      "Epoch 30/120\n",
      "64/64 [==============================] - 12s 181ms/step - loss: 1.7803 - acc: 0.3665 - val_loss: 6.7972 - val_acc: 0.1021\n",
      "Epoch 31/120\n",
      "64/64 [==============================] - 12s 180ms/step - loss: 1.7462 - acc: 0.3760 - val_loss: 8.1150 - val_acc: 0.0984\n",
      "Epoch 32/120\n",
      "64/64 [==============================] - 12s 180ms/step - loss: 1.7658 - acc: 0.3618 - val_loss: 5.2472 - val_acc: 0.0984\n",
      "Epoch 33/120\n",
      "64/64 [==============================] - 12s 180ms/step - loss: 1.7609 - acc: 0.3762 - val_loss: 8.7620 - val_acc: 0.0991\n",
      "Epoch 34/120\n",
      "64/64 [==============================] - 11s 179ms/step - loss: 1.7300 - acc: 0.3689 - val_loss: 3.3961 - val_acc: 0.1387\n",
      "Epoch 35/120\n",
      "64/64 [==============================] - 12s 184ms/step - loss: 1.7325 - acc: 0.3833 - val_loss: 3.0554 - val_acc: 0.1208\n",
      "Epoch 36/120\n",
      "64/64 [==============================] - 12s 181ms/step - loss: 1.7176 - acc: 0.3826 - val_loss: 22.0960 - val_acc: 0.1030\n",
      "Epoch 37/120\n",
      "64/64 [==============================] - 12s 180ms/step - loss: 1.7091 - acc: 0.3735 - val_loss: 4.7590 - val_acc: 0.1028\n",
      "Epoch 38/120\n",
      "64/64 [==============================] - 11s 179ms/step - loss: 1.7134 - acc: 0.3872 - val_loss: 3.7109 - val_acc: 0.1453\n",
      "Epoch 39/120\n",
      "64/64 [==============================] - 11s 178ms/step - loss: 1.6972 - acc: 0.3953 - val_loss: 2.5095 - val_acc: 0.1038\n",
      "Epoch 40/120\n",
      "64/64 [==============================] - 12s 185ms/step - loss: 1.6602 - acc: 0.4033 - val_loss: 2.2329 - val_acc: 0.2437\n",
      "Epoch 41/120\n",
      "64/64 [==============================] - 11s 178ms/step - loss: 1.7036 - acc: 0.3865 - val_loss: 3.7691 - val_acc: 0.1426\n",
      "Epoch 42/120\n",
      "64/64 [==============================] - 11s 177ms/step - loss: 1.6525 - acc: 0.4116 - val_loss: 5.3318 - val_acc: 0.1094\n",
      "Epoch 43/120\n",
      "64/64 [==============================] - 12s 181ms/step - loss: 1.6694 - acc: 0.4016 - val_loss: 6.9960 - val_acc: 0.1035\n",
      "Epoch 44/120\n",
      "64/64 [==============================] - 12s 180ms/step - loss: 1.6931 - acc: 0.3984 - val_loss: 18.6203 - val_acc: 0.0950\n",
      "Epoch 45/120\n",
      "64/64 [==============================] - 12s 184ms/step - loss: 1.6627 - acc: 0.4048 - val_loss: 6.1255 - val_acc: 0.0986\n",
      "Epoch 46/120\n",
      "64/64 [==============================] - 12s 181ms/step - loss: 1.6580 - acc: 0.4121 - val_loss: 8.1010 - val_acc: 0.1047\n",
      "Epoch 47/120\n",
      "64/64 [==============================] - 12s 182ms/step - loss: 1.6298 - acc: 0.4258 - val_loss: 4.7100 - val_acc: 0.1057\n",
      "Epoch 48/120\n",
      "64/64 [==============================] - 11s 179ms/step - loss: 1.6720 - acc: 0.4048 - val_loss: 24.1461 - val_acc: 0.1030\n",
      "Epoch 49/120\n",
      "64/64 [==============================] - 12s 180ms/step - loss: 1.6235 - acc: 0.4187 - val_loss: 2.2656 - val_acc: 0.1619\n",
      "Epoch 50/120\n",
      "64/64 [==============================] - 12s 186ms/step - loss: 1.6531 - acc: 0.4243 - val_loss: 16.9186 - val_acc: 0.1006\n",
      "Epoch 51/120\n",
      "64/64 [==============================] - 12s 181ms/step - loss: 1.6370 - acc: 0.4111 - val_loss: 2.6770 - val_acc: 0.1086\n",
      "Epoch 52/120\n",
      "64/64 [==============================] - 12s 180ms/step - loss: 1.6228 - acc: 0.4189 - val_loss: 2.2710 - val_acc: 0.1655\n",
      "Epoch 53/120\n",
      "64/64 [==============================] - 12s 182ms/step - loss: 1.6007 - acc: 0.4373 - val_loss: 13.9716 - val_acc: 0.1411\n",
      "Epoch 54/120\n",
      "64/64 [==============================] - 12s 185ms/step - loss: 1.6402 - acc: 0.4148 - val_loss: 2.6467 - val_acc: 0.1382\n",
      "Epoch 55/120\n",
      "64/64 [==============================] - 12s 187ms/step - loss: 1.6080 - acc: 0.4290 - val_loss: 2.4264 - val_acc: 0.1279\n",
      "Epoch 56/120\n",
      "64/64 [==============================] - 12s 183ms/step - loss: 1.6197 - acc: 0.4143 - val_loss: 3.2394 - val_acc: 0.1030\n",
      "Epoch 57/120\n",
      "64/64 [==============================] - 12s 184ms/step - loss: 1.6221 - acc: 0.4270 - val_loss: 5.5914 - val_acc: 0.1001\n",
      "Epoch 58/120\n",
      "64/64 [==============================] - 12s 186ms/step - loss: 1.5795 - acc: 0.4395 - val_loss: 15.0164 - val_acc: 0.1384\n",
      "Epoch 59/120\n",
      "64/64 [==============================] - 12s 182ms/step - loss: 1.5850 - acc: 0.4387 - val_loss: 60.7235 - val_acc: 0.1003\n",
      "Epoch 60/120\n",
      "64/64 [==============================] - 12s 185ms/step - loss: 1.5874 - acc: 0.4199 - val_loss: 35.0550 - val_acc: 0.1067\n",
      "Epoch 61/120\n"
     ]
    },
    {
     "name": "stdout",
     "output_type": "stream",
     "text": [
      "64/64 [==============================] - 12s 186ms/step - loss: 1.5785 - acc: 0.4487 - val_loss: 45.2798 - val_acc: 0.1040\n",
      "Epoch 62/120\n",
      "64/64 [==============================] - 12s 186ms/step - loss: 1.6174 - acc: 0.4258 - val_loss: 24.6839 - val_acc: 0.1016\n",
      "Epoch 63/120\n",
      "64/64 [==============================] - 12s 181ms/step - loss: 1.5860 - acc: 0.4397 - val_loss: 35.6904 - val_acc: 0.1028\n",
      "Epoch 64/120\n",
      "64/64 [==============================] - 12s 183ms/step - loss: 1.6031 - acc: 0.4465 - val_loss: 2.4387 - val_acc: 0.1328\n",
      "Epoch 65/120\n",
      "64/64 [==============================] - 12s 188ms/step - loss: 1.5828 - acc: 0.4343 - val_loss: 4.1101 - val_acc: 0.1050\n",
      "Epoch 66/120\n",
      "64/64 [==============================] - 12s 189ms/step - loss: 1.6119 - acc: 0.4246 - val_loss: 12.7003 - val_acc: 0.0972\n",
      "Epoch 67/120\n",
      "64/64 [==============================] - 12s 183ms/step - loss: 1.5821 - acc: 0.4412 - val_loss: 38.7816 - val_acc: 0.1062\n",
      "Epoch 68/120\n",
      "64/64 [==============================] - 12s 184ms/step - loss: 1.5740 - acc: 0.4480 - val_loss: 10.6478 - val_acc: 0.0991\n",
      "Epoch 69/120\n",
      "64/64 [==============================] - 12s 184ms/step - loss: 1.5839 - acc: 0.4397 - val_loss: 45.5764 - val_acc: 0.1409\n",
      "Epoch 70/120\n",
      "64/64 [==============================] - 12s 187ms/step - loss: 1.5674 - acc: 0.4529 - val_loss: 1.7534 - val_acc: 0.4211\n",
      "Epoch 71/120\n",
      "64/64 [==============================] - 12s 184ms/step - loss: 1.5477 - acc: 0.4417 - val_loss: 2.5413 - val_acc: 0.0991\n",
      "Epoch 72/120\n",
      "64/64 [==============================] - 12s 184ms/step - loss: 1.5697 - acc: 0.4436 - val_loss: 9.7079 - val_acc: 0.1042\n",
      "Epoch 73/120\n",
      "64/64 [==============================] - 12s 185ms/step - loss: 1.5700 - acc: 0.4453 - val_loss: 33.3889 - val_acc: 0.1006\n",
      "Epoch 74/120\n",
      "64/64 [==============================] - 12s 187ms/step - loss: 1.5663 - acc: 0.4487 - val_loss: 2.8972 - val_acc: 0.1106\n",
      "Epoch 75/120\n",
      "64/64 [==============================] - 12s 186ms/step - loss: 1.5501 - acc: 0.4526 - val_loss: 16.0890 - val_acc: 0.1047\n",
      "Epoch 76/120\n",
      "64/64 [==============================] - 12s 188ms/step - loss: 1.5885 - acc: 0.4348 - val_loss: 3.2735 - val_acc: 0.1934\n",
      "Epoch 77/120\n",
      "64/64 [==============================] - 12s 186ms/step - loss: 1.5815 - acc: 0.4461 - val_loss: 8.4401 - val_acc: 0.1062\n",
      "Epoch 78/120\n",
      "64/64 [==============================] - 12s 187ms/step - loss: 1.5617 - acc: 0.4513 - val_loss: 19.7906 - val_acc: 0.0999\n",
      "Epoch 79/120\n",
      "64/64 [==============================] - 12s 184ms/step - loss: 1.5753 - acc: 0.4392 - val_loss: 48.7871 - val_acc: 0.1052\n",
      "Epoch 80/120\n",
      "64/64 [==============================] - 12s 185ms/step - loss: 1.5155 - acc: 0.4688 - val_loss: 2.3215 - val_acc: 0.1233\n",
      "Epoch 81/120\n",
      "64/64 [==============================] - 12s 195ms/step - loss: 1.5680 - acc: 0.4517 - val_loss: 4.1019 - val_acc: 0.1018\n",
      "Epoch 82/120\n",
      "64/64 [==============================] - 12s 188ms/step - loss: 1.5720 - acc: 0.4497 - val_loss: 3.8959 - val_acc: 0.0984\n",
      "Epoch 83/120\n",
      "64/64 [==============================] - 12s 195ms/step - loss: 1.5282 - acc: 0.4707 - val_loss: 24.6894 - val_acc: 0.1018\n",
      "Epoch 84/120\n",
      "64/64 [==============================] - 12s 185ms/step - loss: 1.5480 - acc: 0.4539 - val_loss: 10.4061 - val_acc: 0.1165\n",
      "Epoch 85/120\n",
      "64/64 [==============================] - 12s 184ms/step - loss: 1.5227 - acc: 0.4551 - val_loss: 6.1698 - val_acc: 0.1069\n",
      "Epoch 86/120\n",
      "64/64 [==============================] - 13s 205ms/step - loss: 1.5728 - acc: 0.4592 - val_loss: 18.3342 - val_acc: 0.1116\n",
      "Epoch 87/120\n",
      "64/64 [==============================] - 12s 185ms/step - loss: 1.5443 - acc: 0.4617 - val_loss: 39.6418 - val_acc: 0.0994\n",
      "Epoch 88/120\n",
      "64/64 [==============================] - 11s 179ms/step - loss: 1.5719 - acc: 0.4458 - val_loss: 22.6992 - val_acc: 0.1062\n",
      "Epoch 89/120\n",
      "64/64 [==============================] - 11s 179ms/step - loss: 1.5308 - acc: 0.4629 - val_loss: 4.3248 - val_acc: 0.1042\n",
      "Epoch 90/120\n",
      "64/64 [==============================] - 12s 181ms/step - loss: 1.5665 - acc: 0.4502 - val_loss: 2.2610 - val_acc: 0.1406\n",
      "Epoch 91/120\n",
      "64/64 [==============================] - 11s 179ms/step - loss: 1.5561 - acc: 0.4523 - val_loss: 3.7280 - val_acc: 0.1030\n",
      "Epoch 92/120\n",
      "64/64 [==============================] - 12s 182ms/step - loss: 1.5209 - acc: 0.4690 - val_loss: 62.4323 - val_acc: 0.1040\n",
      "Epoch 93/120\n",
      "64/64 [==============================] - 12s 183ms/step - loss: 1.5190 - acc: 0.4670 - val_loss: 4.3345 - val_acc: 0.1543\n",
      "Epoch 94/120\n",
      "64/64 [==============================] - 12s 182ms/step - loss: 1.5025 - acc: 0.4722 - val_loss: 5.4102 - val_acc: 0.1064\n",
      "Epoch 95/120\n",
      "64/64 [==============================] - 12s 182ms/step - loss: 1.4923 - acc: 0.4700 - val_loss: 29.8517 - val_acc: 0.0996\n",
      "Epoch 96/120\n",
      "64/64 [==============================] - 12s 187ms/step - loss: 1.5059 - acc: 0.4795 - val_loss: 2.6820 - val_acc: 0.0994\n",
      "Epoch 97/120\n",
      "64/64 [==============================] - 12s 183ms/step - loss: 1.5120 - acc: 0.4746 - val_loss: 8.5809 - val_acc: 0.1077\n",
      "Epoch 98/120\n",
      "64/64 [==============================] - 11s 180ms/step - loss: 1.5237 - acc: 0.4609 - val_loss: 6.0476 - val_acc: 0.1497\n",
      "Epoch 99/120\n",
      "64/64 [==============================] - 11s 178ms/step - loss: 1.4986 - acc: 0.4699 - val_loss: 12.2934 - val_acc: 0.0999\n",
      "Epoch 100/120\n",
      "64/64 [==============================] - 12s 181ms/step - loss: 1.5363 - acc: 0.4560 - val_loss: 2.1246 - val_acc: 0.2314\n",
      "Epoch 101/120\n",
      "64/64 [==============================] - 12s 186ms/step - loss: 1.4937 - acc: 0.4653 - val_loss: 5.6431 - val_acc: 0.1150\n",
      "Epoch 102/120\n",
      "64/64 [==============================] - 11s 179ms/step - loss: 1.4845 - acc: 0.4770 - val_loss: 2.6797 - val_acc: 0.1499\n",
      "Epoch 103/120\n",
      "64/64 [==============================] - 12s 182ms/step - loss: 1.4896 - acc: 0.4736 - val_loss: 7.6049 - val_acc: 0.1201\n",
      "Epoch 104/120\n",
      "64/64 [==============================] - 12s 184ms/step - loss: 1.5169 - acc: 0.4634 - val_loss: 4.9664 - val_acc: 0.1162\n",
      "Epoch 105/120\n",
      "64/64 [==============================] - 12s 181ms/step - loss: 1.4544 - acc: 0.4810 - val_loss: 6.6424 - val_acc: 0.1125\n",
      "Epoch 106/120\n",
      "64/64 [==============================] - 12s 184ms/step - loss: 1.5117 - acc: 0.4680 - val_loss: 5.7358 - val_acc: 0.1304\n",
      "Epoch 107/120\n",
      "64/64 [==============================] - 12s 182ms/step - loss: 1.4901 - acc: 0.4761 - val_loss: 3.3516 - val_acc: 0.1028\n",
      "Epoch 108/120\n",
      "64/64 [==============================] - 12s 187ms/step - loss: 1.4897 - acc: 0.4771 - val_loss: 29.1532 - val_acc: 0.1016\n",
      "Epoch 109/120\n",
      "64/64 [==============================] - 12s 181ms/step - loss: 1.5243 - acc: 0.4705 - val_loss: 21.8093 - val_acc: 0.0874\n",
      "Epoch 110/120\n",
      "64/64 [==============================] - 12s 182ms/step - loss: 1.5117 - acc: 0.4685 - val_loss: 33.7608 - val_acc: 0.1060\n",
      "Epoch 111/120\n",
      "64/64 [==============================] - 12s 188ms/step - loss: 1.4673 - acc: 0.4915 - val_loss: 9.4681 - val_acc: 0.1035\n",
      "Epoch 112/120\n",
      "64/64 [==============================] - 12s 189ms/step - loss: 1.4845 - acc: 0.4963 - val_loss: 5.2646 - val_acc: 0.1055\n",
      "Epoch 113/120\n",
      "64/64 [==============================] - 12s 184ms/step - loss: 1.4931 - acc: 0.4827 - val_loss: 8.5561 - val_acc: 0.1292\n",
      "Epoch 114/120\n",
      "64/64 [==============================] - 12s 182ms/step - loss: 1.4944 - acc: 0.4719 - val_loss: 3.1014 - val_acc: 0.1025\n",
      "Epoch 115/120\n",
      "64/64 [==============================] - 12s 186ms/step - loss: 1.5078 - acc: 0.4749 - val_loss: 6.0575 - val_acc: 0.1292\n",
      "Epoch 116/120\n",
      "64/64 [==============================] - 12s 191ms/step - loss: 1.5056 - acc: 0.4800 - val_loss: 19.5801 - val_acc: 0.1001\n",
      "Epoch 117/120\n",
      "64/64 [==============================] - 12s 184ms/step - loss: 1.5153 - acc: 0.4705 - val_loss: 6.1042 - val_acc: 0.1165\n",
      "Epoch 118/120\n",
      "64/64 [==============================] - 12s 187ms/step - loss: 1.5024 - acc: 0.4712 - val_loss: 5.3027 - val_acc: 0.1335\n",
      "Epoch 119/120\n",
      "64/64 [==============================] - 12s 187ms/step - loss: 1.4704 - acc: 0.4956 - val_loss: 4.6801 - val_acc: 0.1211\n",
      "Epoch 120/120\n",
      "64/64 [==============================] - 12s 188ms/step - loss: 1.4875 - acc: 0.4727 - val_loss: 3.4648 - val_acc: 0.1499\n"
     ]
    }
   ],
   "source": [
    "history = model.fit(train_generator, steps_per_epoch=64, epochs=120, validation_data=(validation_generator), validation_steps=64)"
   ]
  },
  {
   "cell_type": "code",
   "execution_count": 51,
   "id": "9d6c7e26",
   "metadata": {},
   "outputs": [
    {
     "data": {
      "image/png": "[encoded data removed]",
      "text/plain": [
       "<Figure size 432x288 with 1 Axes>"
      ]
     },
     "metadata": {
      "needs_background": "light"
     },
     "output_type": "display_data"
    },
    {
     "data": {
      "image/png": "[encoded data removed]",
      "text/plain": [
       "<Figure size 432x288 with 1 Axes>"
      ]
     },
     "metadata": {
      "needs_background": "light"
     },
     "output_type": "display_data"
    }
   ],
   "source": [
    "# Plot the data.\n",
    "\n",
    "acc = history.history['acc']\n",
    "val_acc = history.history['val_acc']\n",
    "loss = history.history['loss']\n",
    "val_loss = history.history['val_loss']\n",
    "\n",
    "epochs = range(len(acc))\n",
    "\n",
    "plt.plot(epochs, acc, 'bo', label='Training acc')\n",
    "plt.plot(epochs, val_acc, 'b', label='Validation acc')\n",
    "plt.title('Training and validation accuracy')\n",
    "plt.legend()\n",
    "\n",
    "plt.figure()\n",
    "\n",
    "plt.plot(epochs, loss, 'bo', label='Training loss')\n",
    "plt.plot(epochs, val_loss, 'b', label='Validation loss')\n",
    "plt.title('Training and validation loss')\n",
    "plt.legend()\n",
    "\n",
    "plt.show()"
   ]
  },
  {
   "cell_type": "code",
   "execution_count": 52,
   "id": "d4da61db",
   "metadata": {},
   "outputs": [
    {
     "name": "stdout",
     "output_type": "stream",
     "text": [
      "313/313 [==============================] - 8s 24ms/step\n"
     ]
    },
    {
     "data": {
      "text/plain": [
       "<Figure size 432x288 with 0 Axes>"
      ]
     },
     "metadata": {},
     "output_type": "display_data"
    }
   ],
   "source": [
    "# Use the model to make predictions\n",
    "predictions = model.predict(x_test)\n",
    "predicted_labels = np.argmax(predictions, axis=1)\n",
    "\n",
    "# Save the model to the results folder\n",
    "model.save('results/model-6-2-b.h5')\n",
    "plt.savefig('results/validation-6-2-b.png')\n",
    "np.savetxt('results/predictions-6-2-b.txt', predicted_labels, fmt='%d')\n",
    "np.savetxt('results/metrics-6-2-b.txt', np.column_stack((loss_values, acc_values, val_loss_values, val_acc_values)), fmt='%f')"
   ]
  },
  {
   "cell_type": "markdown",
   "id": "0c29d0f8",
   "metadata": {},
   "source": [
    "## 6.3"
   ]
  },
  {
   "cell_type": "code",
   "execution_count": 54,
   "id": "8c5722da",
   "metadata": {},
   "outputs": [
    {
     "name": "stdout",
     "output_type": "stream",
     "text": [
      "1/1 [==============================] - 1s 1s/step\n",
      "Downloading data from https://storage.googleapis.com/download.tensorflow.org/data/imagenet_class_index.json\n",
      "35363/35363 [==============================] - 0s 1us/step\n",
      "images\\amy-hirschi-szrJ3wjzOMg-unsplash.jpg \n",
      " Predicted: [('n03291819', 'envelope', 0.21261807), ('n03642806', 'laptop', 0.08052259), ('n04118776', 'rule', 0.080337815), ('n03179701', 'desk', 0.07715189), ('n04548280', 'wall_clock', 0.07612319)]\n",
      "1/1 [==============================] - 0s 117ms/step\n",
      "images\\daniel-bonilla-MVZlkv_G4zQ-unsplash.jpg \n",
      " Predicted: [('n03803284', 'muzzle', 0.9223493), ('n02403003', 'ox', 0.031144816), ('n03868863', 'oxygen_mask', 0.0288808), ('n03424325', 'gasmask', 0.0042149327), ('n02092339', 'Weimaraner', 0.0014808961)]\n",
      "1/1 [==============================] - 0s 103ms/step\n",
      "images\\dushawn-jovic-B3fgTrrgsiI-unsplash.jpg \n",
      " Predicted: [('n02807133', 'bathing_cap', 0.4402964), ('n03710637', 'maillot', 0.17616081), ('n02892767', 'brassiere', 0.14404574), ('n03710721', 'maillot', 0.13406157), ('n02837789', 'bikini', 0.07064589)]\n",
      "1/1 [==============================] - 0s 103ms/step\n",
      "images\\erik-mclean-ZRns2R5azu0-unsplash.jpg \n",
      " Predicted: [('n03594945', 'jeep', 0.29830098), ('n04467665', 'trailer_truck', 0.20788671), ('n04037443', 'racer', 0.12850937), ('n03770679', 'minivan', 0.05470578), ('n03930630', 'pickup', 0.04988277)]\n",
      "1/1 [==============================] - 0s 101ms/step\n",
      "images\\intricate-explorer-ndmaGsIr6E4-unsplash.jpg \n",
      " Predicted: [('n13040303', 'stinkhorn', 0.13910884), ('n12985857', 'coral_fungus', 0.03833431), ('n01773549', 'barn_spider', 0.03268129), ('n01950731', 'sea_slug', 0.030921508), ('n04604644', 'worm_fence', 0.02760182)]\n",
      "1/1 [==============================] - 0s 101ms/step\n",
      "images\\leio-mclaren-FwdZYz0yc9g-unsplash.jpg \n",
      " Predicted: [('n03888257', 'parachute', 0.44306922), ('n03773504', 'missile', 0.17118338), ('n09472597', 'volcano', 0.10201463), ('n04552348', 'warplane', 0.10144949), ('n04008634', 'projectile', 0.056138314)]\n",
      "1/1 [==============================] - 0s 102ms/step\n",
      "images\\manja-vitolic-gKXKBY-C-Dk-unsplash.jpg \n",
      " Predicted: [('n02124075', 'Egyptian_cat', 0.61982495), ('n02123597', 'Siamese_cat', 0.13296269), ('n02909870', 'bucket', 0.052781727), ('n02123045', 'tabby', 0.03871195), ('n03958227', 'plastic_bag', 0.020926394)]\n",
      "1/1 [==============================] - 0s 101ms/step\n",
      "images\\obie-fernandez-0GFNAelMPZA-unsplash.jpg \n",
      " Predicted: [('n03250847', 'drumstick', 0.2297712), ('n04584207', 'wig', 0.129819), ('n03594734', 'jean', 0.066456355), ('n02963159', 'cardigan', 0.05127348), ('n03770439', 'miniskirt', 0.04637946)]\n",
      "1/1 [==============================] - 0s 100ms/step\n",
      "images\\quino-al-8gWEAAXJjtI-unsplash.jpg \n",
      " Predicted: [('n03187595', 'dial_telephone', 0.9591948), ('n03902125', 'pay-phone', 0.039810065), ('n04328186', 'stopwatch', 0.000522505), ('n04548280', 'wall_clock', 0.00010799182), ('n04069434', 'reflex_camera', 7.302062e-05)]\n",
      "1/1 [==============================] - 0s 102ms/step\n",
      "images\\richard-brutyo-Sg3XwuEpybU-unsplash.jpg \n",
      " Predicted: [('n02099601', 'golden_retriever', 0.9678861), ('n02099712', 'Labrador_retriever', 0.007136036), ('n02102318', 'cocker_spaniel', 0.0039223228), ('n02085620', 'Chihuahua', 0.0025483514), ('n02113624', 'toy_poodle', 0.0023548473)]\n"
     ]
    }
   ],
   "source": [
    "from tensorflow.keras.applications.resnet50 import ResNet50\n",
    "from tensorflow.keras.preprocessing import image\n",
    "from tensorflow.keras.applications.resnet50 import preprocess_input, decode_predictions\n",
    "\n",
    "model = ResNet50(weights='imagenet')\n",
    "filepath = 'images'\n",
    "output = []\n",
    "\n",
    "# Loop over each image to make predictions\n",
    "for file in os.listdir(filepath):\n",
    "    image_path = os.path.join(filepath, file)\n",
    "    img = image.load_img(image_path, target_size=(224, 224))\n",
    "    \n",
    "    x = image.img_to_array(img)\n",
    "    x = np.expand_dims(x, axis = 0)\n",
    "    x = preprocess_input(x)\n",
    "    \n",
    "    # Make the predictions\n",
    "    predictions = model.predict(x)\n",
    "    prediction_name = str(image_path)\n",
    "    info = str('Predicted: ' + str(decode_predictions(predictions, top=5)[0]))\n",
    "    output.append(prediction_name)\n",
    "    output.append(info)\n",
    "    print(f'{prediction_name} \\n {info}')"
   ]
  },
  {
   "cell_type": "code",
   "execution_count": 56,
   "id": "e8dc1a3b",
   "metadata": {},
   "outputs": [],
   "source": [
    "# Save predictions to a file\n",
    "if not os.path.exists('results/predictions/resnet50'):\n",
    "    os.makedirs('results/predictions/resnet50')\n",
    "    \n",
    "outfile = 'results/predictions/resnet50/predictions-6-3.txt'\n",
    "with open(outfile, 'w') as f:\n",
    "    for line in output:\n",
    "        f.write(\"%s\\n\" % line)"
   ]
  }
 ],
 "metadata": {
  "kernelspec": {
   "display_name": "Python 3 (ipykernel)",
   "language": "python",
   "name": "python3"
  },
  "language_info": {
   "codemirror_mode": {
    "name": "ipython",
    "version": 3
   },
   "file_extension": ".py",
   "mimetype": "text/x-python",
   "name": "python",
   "nbconvert_exporter": "python",
   "pygments_lexer": "ipython3",
   "version": "3.9.12"
  }
 },
 "nbformat": 4,
 "nbformat_minor": 5
}
